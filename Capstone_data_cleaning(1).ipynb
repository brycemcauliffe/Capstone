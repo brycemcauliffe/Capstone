{
 "cells": [
  {
   "cell_type": "code",
   "execution_count": 95,
   "id": "9d1cd374",
   "metadata": {},
   "outputs": [],
   "source": [
    "import pandas as pd \n",
    "import numpy as np \n",
    "import matplotlib.pyplot as plt"
   ]
  },
  {
   "cell_type": "markdown",
   "id": "6de014c5",
   "metadata": {},
   "source": [
    "# 1980"
   ]
  },
  {
   "cell_type": "code",
   "execution_count": 3,
   "id": "524362a6",
   "metadata": {},
   "outputs": [],
   "source": [
    "#reading in data\n",
    "dataset = pd.read_csv('daily_aqi_by_county_1980.csv')"
   ]
  },
  {
   "cell_type": "code",
   "execution_count": 4,
   "id": "f05e10fd",
   "metadata": {},
   "outputs": [
    {
     "data": {
      "text/html": [
       "<div>\n",
       "<style scoped>\n",
       "    .dataframe tbody tr th:only-of-type {\n",
       "        vertical-align: middle;\n",
       "    }\n",
       "\n",
       "    .dataframe tbody tr th {\n",
       "        vertical-align: top;\n",
       "    }\n",
       "\n",
       "    .dataframe thead th {\n",
       "        text-align: right;\n",
       "    }\n",
       "</style>\n",
       "<table border=\"1\" class=\"dataframe\">\n",
       "  <thead>\n",
       "    <tr style=\"text-align: right;\">\n",
       "      <th></th>\n",
       "      <th>State Name</th>\n",
       "      <th>county Name</th>\n",
       "      <th>State Code</th>\n",
       "      <th>County Code</th>\n",
       "      <th>Date</th>\n",
       "      <th>AQI</th>\n",
       "      <th>Category</th>\n",
       "      <th>Defining Parameter</th>\n",
       "      <th>Defining Site</th>\n",
       "      <th>Number of Sites Reporting</th>\n",
       "    </tr>\n",
       "  </thead>\n",
       "  <tbody>\n",
       "    <tr>\n",
       "      <th>0</th>\n",
       "      <td>Alabama</td>\n",
       "      <td>Autauga</td>\n",
       "      <td>1</td>\n",
       "      <td>1</td>\n",
       "      <td>1980-04-05</td>\n",
       "      <td>67</td>\n",
       "      <td>Moderate</td>\n",
       "      <td>Ozone</td>\n",
       "      <td>01-001-0002</td>\n",
       "      <td>1</td>\n",
       "    </tr>\n",
       "    <tr>\n",
       "      <th>1</th>\n",
       "      <td>Alabama</td>\n",
       "      <td>Autauga</td>\n",
       "      <td>1</td>\n",
       "      <td>1</td>\n",
       "      <td>1980-04-06</td>\n",
       "      <td>84</td>\n",
       "      <td>Moderate</td>\n",
       "      <td>Ozone</td>\n",
       "      <td>01-001-0002</td>\n",
       "      <td>1</td>\n",
       "    </tr>\n",
       "    <tr>\n",
       "      <th>2</th>\n",
       "      <td>Alabama</td>\n",
       "      <td>Autauga</td>\n",
       "      <td>1</td>\n",
       "      <td>1</td>\n",
       "      <td>1980-04-07</td>\n",
       "      <td>61</td>\n",
       "      <td>Moderate</td>\n",
       "      <td>Ozone</td>\n",
       "      <td>01-001-0002</td>\n",
       "      <td>1</td>\n",
       "    </tr>\n",
       "    <tr>\n",
       "      <th>3</th>\n",
       "      <td>Alabama</td>\n",
       "      <td>Autauga</td>\n",
       "      <td>1</td>\n",
       "      <td>1</td>\n",
       "      <td>1980-04-08</td>\n",
       "      <td>49</td>\n",
       "      <td>Good</td>\n",
       "      <td>Ozone</td>\n",
       "      <td>01-001-0002</td>\n",
       "      <td>1</td>\n",
       "    </tr>\n",
       "    <tr>\n",
       "      <th>4</th>\n",
       "      <td>Alabama</td>\n",
       "      <td>Autauga</td>\n",
       "      <td>1</td>\n",
       "      <td>1</td>\n",
       "      <td>1980-04-09</td>\n",
       "      <td>58</td>\n",
       "      <td>Moderate</td>\n",
       "      <td>Ozone</td>\n",
       "      <td>01-001-0002</td>\n",
       "      <td>1</td>\n",
       "    </tr>\n",
       "  </tbody>\n",
       "</table>\n",
       "</div>"
      ],
      "text/plain": [
       "  State Name county Name  State Code  County Code        Date  AQI  Category  \\\n",
       "0    Alabama     Autauga           1            1  1980-04-05   67  Moderate   \n",
       "1    Alabama     Autauga           1            1  1980-04-06   84  Moderate   \n",
       "2    Alabama     Autauga           1            1  1980-04-07   61  Moderate   \n",
       "3    Alabama     Autauga           1            1  1980-04-08   49      Good   \n",
       "4    Alabama     Autauga           1            1  1980-04-09   58  Moderate   \n",
       "\n",
       "  Defining Parameter Defining Site  Number of Sites Reporting  \n",
       "0              Ozone   01-001-0002                          1  \n",
       "1              Ozone   01-001-0002                          1  \n",
       "2              Ozone   01-001-0002                          1  \n",
       "3              Ozone   01-001-0002                          1  \n",
       "4              Ozone   01-001-0002                          1  "
      ]
     },
     "execution_count": 4,
     "metadata": {},
     "output_type": "execute_result"
    }
   ],
   "source": [
    "dataset.head()"
   ]
  },
  {
   "cell_type": "code",
   "execution_count": 5,
   "id": "06072465",
   "metadata": {},
   "outputs": [],
   "source": [
    "dataset.to_csv('pollution.csv')"
   ]
  },
  {
   "cell_type": "code",
   "execution_count": 6,
   "id": "772dddf4",
   "metadata": {},
   "outputs": [
    {
     "data": {
      "text/html": [
       "<div>\n",
       "<style scoped>\n",
       "    .dataframe tbody tr th:only-of-type {\n",
       "        vertical-align: middle;\n",
       "    }\n",
       "\n",
       "    .dataframe tbody tr th {\n",
       "        vertical-align: top;\n",
       "    }\n",
       "\n",
       "    .dataframe thead th {\n",
       "        text-align: right;\n",
       "    }\n",
       "</style>\n",
       "<table border=\"1\" class=\"dataframe\">\n",
       "  <thead>\n",
       "    <tr style=\"text-align: right;\">\n",
       "      <th></th>\n",
       "      <th>State Name</th>\n",
       "      <th>county Name</th>\n",
       "      <th>State Code</th>\n",
       "      <th>County Code</th>\n",
       "      <th>Date</th>\n",
       "      <th>AQI</th>\n",
       "      <th>Category</th>\n",
       "      <th>Defining Parameter</th>\n",
       "      <th>Defining Site</th>\n",
       "      <th>Number of Sites Reporting</th>\n",
       "    </tr>\n",
       "  </thead>\n",
       "  <tbody>\n",
       "    <tr>\n",
       "      <th>0</th>\n",
       "      <td>Alabama</td>\n",
       "      <td>Autauga</td>\n",
       "      <td>1</td>\n",
       "      <td>1</td>\n",
       "      <td>1980-04-05</td>\n",
       "      <td>67</td>\n",
       "      <td>Moderate</td>\n",
       "      <td>Ozone</td>\n",
       "      <td>01-001-0002</td>\n",
       "      <td>1</td>\n",
       "    </tr>\n",
       "    <tr>\n",
       "      <th>1</th>\n",
       "      <td>Alabama</td>\n",
       "      <td>Autauga</td>\n",
       "      <td>1</td>\n",
       "      <td>1</td>\n",
       "      <td>1980-04-06</td>\n",
       "      <td>84</td>\n",
       "      <td>Moderate</td>\n",
       "      <td>Ozone</td>\n",
       "      <td>01-001-0002</td>\n",
       "      <td>1</td>\n",
       "    </tr>\n",
       "    <tr>\n",
       "      <th>2</th>\n",
       "      <td>Alabama</td>\n",
       "      <td>Autauga</td>\n",
       "      <td>1</td>\n",
       "      <td>1</td>\n",
       "      <td>1980-04-07</td>\n",
       "      <td>61</td>\n",
       "      <td>Moderate</td>\n",
       "      <td>Ozone</td>\n",
       "      <td>01-001-0002</td>\n",
       "      <td>1</td>\n",
       "    </tr>\n",
       "    <tr>\n",
       "      <th>3</th>\n",
       "      <td>Alabama</td>\n",
       "      <td>Autauga</td>\n",
       "      <td>1</td>\n",
       "      <td>1</td>\n",
       "      <td>1980-04-08</td>\n",
       "      <td>49</td>\n",
       "      <td>Good</td>\n",
       "      <td>Ozone</td>\n",
       "      <td>01-001-0002</td>\n",
       "      <td>1</td>\n",
       "    </tr>\n",
       "    <tr>\n",
       "      <th>4</th>\n",
       "      <td>Alabama</td>\n",
       "      <td>Autauga</td>\n",
       "      <td>1</td>\n",
       "      <td>1</td>\n",
       "      <td>1980-04-09</td>\n",
       "      <td>58</td>\n",
       "      <td>Moderate</td>\n",
       "      <td>Ozone</td>\n",
       "      <td>01-001-0002</td>\n",
       "      <td>1</td>\n",
       "    </tr>\n",
       "  </tbody>\n",
       "</table>\n",
       "</div>"
      ],
      "text/plain": [
       "  State Name county Name  State Code  County Code        Date  AQI  Category  \\\n",
       "0    Alabama     Autauga           1            1  1980-04-05   67  Moderate   \n",
       "1    Alabama     Autauga           1            1  1980-04-06   84  Moderate   \n",
       "2    Alabama     Autauga           1            1  1980-04-07   61  Moderate   \n",
       "3    Alabama     Autauga           1            1  1980-04-08   49      Good   \n",
       "4    Alabama     Autauga           1            1  1980-04-09   58  Moderate   \n",
       "\n",
       "  Defining Parameter Defining Site  Number of Sites Reporting  \n",
       "0              Ozone   01-001-0002                          1  \n",
       "1              Ozone   01-001-0002                          1  \n",
       "2              Ozone   01-001-0002                          1  \n",
       "3              Ozone   01-001-0002                          1  \n",
       "4              Ozone   01-001-0002                          1  "
      ]
     },
     "execution_count": 6,
     "metadata": {},
     "output_type": "execute_result"
    }
   ],
   "source": [
    "#making csv a DataFrame\n",
    "df = pd.read_csv('pollution.csv', header=0, index_col=0)\n",
    "df.head()"
   ]
  },
  {
   "cell_type": "code",
   "execution_count": 7,
   "id": "da2425ce",
   "metadata": {
    "scrolled": true
   },
   "outputs": [
    {
     "data": {
      "text/plain": [
       "['State Name',\n",
       " 'county Name',\n",
       " 'State Code',\n",
       " 'County Code',\n",
       " 'Date',\n",
       " 'AQI',\n",
       " 'Category',\n",
       " 'Defining Parameter',\n",
       " 'Defining Site',\n",
       " 'Number of Sites Reporting']"
      ]
     },
     "execution_count": 7,
     "metadata": {},
     "output_type": "execute_result"
    }
   ],
   "source": [
    "dataset_columns = df.columns.tolist()\n",
    "dataset_columns"
   ]
  },
  {
   "cell_type": "code",
   "execution_count": 8,
   "id": "0979a85d",
   "metadata": {
    "scrolled": true
   },
   "outputs": [
    {
     "data": {
      "text/html": [
       "<div>\n",
       "<style scoped>\n",
       "    .dataframe tbody tr th:only-of-type {\n",
       "        vertical-align: middle;\n",
       "    }\n",
       "\n",
       "    .dataframe tbody tr th {\n",
       "        vertical-align: top;\n",
       "    }\n",
       "\n",
       "    .dataframe thead th {\n",
       "        text-align: right;\n",
       "    }\n",
       "</style>\n",
       "<table border=\"1\" class=\"dataframe\">\n",
       "  <thead>\n",
       "    <tr style=\"text-align: right;\">\n",
       "      <th></th>\n",
       "      <th>State Name</th>\n",
       "      <th>AQI</th>\n",
       "    </tr>\n",
       "  </thead>\n",
       "  <tbody>\n",
       "    <tr>\n",
       "      <th>0</th>\n",
       "      <td>Alabama</td>\n",
       "      <td>67</td>\n",
       "    </tr>\n",
       "    <tr>\n",
       "      <th>1</th>\n",
       "      <td>Alabama</td>\n",
       "      <td>84</td>\n",
       "    </tr>\n",
       "    <tr>\n",
       "      <th>2</th>\n",
       "      <td>Alabama</td>\n",
       "      <td>61</td>\n",
       "    </tr>\n",
       "    <tr>\n",
       "      <th>3</th>\n",
       "      <td>Alabama</td>\n",
       "      <td>49</td>\n",
       "    </tr>\n",
       "    <tr>\n",
       "      <th>4</th>\n",
       "      <td>Alabama</td>\n",
       "      <td>58</td>\n",
       "    </tr>\n",
       "  </tbody>\n",
       "</table>\n",
       "</div>"
      ],
      "text/plain": [
       "  State Name  AQI\n",
       "0    Alabama   67\n",
       "1    Alabama   84\n",
       "2    Alabama   61\n",
       "3    Alabama   49\n",
       "4    Alabama   58"
      ]
     },
     "execution_count": 8,
     "metadata": {},
     "output_type": "execute_result"
    }
   ],
   "source": [
    "#dropping extraniuos columns for univariate analysis \n",
    "df_state_aqi=df.drop(['county Name',\n",
    " 'State Code',\n",
    " 'County Code',\n",
    " 'Date',\n",
    " 'Category',\n",
    " 'Defining Parameter',\n",
    " 'Defining Site',\n",
    " 'Number of Sites Reporting'], axis=1)\n",
    "df_state_aqi.head()"
   ]
  },
  {
   "cell_type": "code",
   "execution_count": 9,
   "id": "2234ed2b",
   "metadata": {},
   "outputs": [],
   "source": [
    "il_aqi_1980 = df_state_aqi.loc[df_state_aqi['State Name']=='Illinois'].drop(columns=['State Name'])"
   ]
  },
  {
   "cell_type": "code",
   "execution_count": 10,
   "id": "286a2282",
   "metadata": {
    "scrolled": true
   },
   "outputs": [
    {
     "data": {
      "text/html": [
       "<div>\n",
       "<style scoped>\n",
       "    .dataframe tbody tr th:only-of-type {\n",
       "        vertical-align: middle;\n",
       "    }\n",
       "\n",
       "    .dataframe tbody tr th {\n",
       "        vertical-align: top;\n",
       "    }\n",
       "\n",
       "    .dataframe thead th {\n",
       "        text-align: right;\n",
       "    }\n",
       "</style>\n",
       "<table border=\"1\" class=\"dataframe\">\n",
       "  <thead>\n",
       "    <tr style=\"text-align: right;\">\n",
       "      <th></th>\n",
       "      <th>AQI</th>\n",
       "    </tr>\n",
       "  </thead>\n",
       "  <tbody>\n",
       "    <tr>\n",
       "      <th>30593</th>\n",
       "      <td>19</td>\n",
       "    </tr>\n",
       "    <tr>\n",
       "      <th>30594</th>\n",
       "      <td>19</td>\n",
       "    </tr>\n",
       "    <tr>\n",
       "      <th>30595</th>\n",
       "      <td>13</td>\n",
       "    </tr>\n",
       "    <tr>\n",
       "      <th>30596</th>\n",
       "      <td>16</td>\n",
       "    </tr>\n",
       "    <tr>\n",
       "      <th>30597</th>\n",
       "      <td>10</td>\n",
       "    </tr>\n",
       "    <tr>\n",
       "      <th>...</th>\n",
       "      <td>...</td>\n",
       "    </tr>\n",
       "    <tr>\n",
       "      <th>36744</th>\n",
       "      <td>12</td>\n",
       "    </tr>\n",
       "    <tr>\n",
       "      <th>36745</th>\n",
       "      <td>7</td>\n",
       "    </tr>\n",
       "    <tr>\n",
       "      <th>36746</th>\n",
       "      <td>18</td>\n",
       "    </tr>\n",
       "    <tr>\n",
       "      <th>36747</th>\n",
       "      <td>18</td>\n",
       "    </tr>\n",
       "    <tr>\n",
       "      <th>36748</th>\n",
       "      <td>9</td>\n",
       "    </tr>\n",
       "  </tbody>\n",
       "</table>\n",
       "<p>6156 rows × 1 columns</p>\n",
       "</div>"
      ],
      "text/plain": [
       "       AQI\n",
       "30593   19\n",
       "30594   19\n",
       "30595   13\n",
       "30596   16\n",
       "30597   10\n",
       "...    ...\n",
       "36744   12\n",
       "36745    7\n",
       "36746   18\n",
       "36747   18\n",
       "36748    9\n",
       "\n",
       "[6156 rows x 1 columns]"
      ]
     },
     "execution_count": 10,
     "metadata": {},
     "output_type": "execute_result"
    }
   ],
   "source": [
    "il_aqi_1980"
   ]
  },
  {
   "cell_type": "markdown",
   "id": "0af24eec",
   "metadata": {},
   "source": [
    "# 1981"
   ]
  },
  {
   "cell_type": "code",
   "execution_count": 11,
   "id": "21a7c4c9",
   "metadata": {
    "scrolled": true
   },
   "outputs": [
    {
     "data": {
      "text/html": [
       "<div>\n",
       "<style scoped>\n",
       "    .dataframe tbody tr th:only-of-type {\n",
       "        vertical-align: middle;\n",
       "    }\n",
       "\n",
       "    .dataframe tbody tr th {\n",
       "        vertical-align: top;\n",
       "    }\n",
       "\n",
       "    .dataframe thead th {\n",
       "        text-align: right;\n",
       "    }\n",
       "</style>\n",
       "<table border=\"1\" class=\"dataframe\">\n",
       "  <thead>\n",
       "    <tr style=\"text-align: right;\">\n",
       "      <th></th>\n",
       "      <th>State Name</th>\n",
       "      <th>county Name</th>\n",
       "      <th>State Code</th>\n",
       "      <th>County Code</th>\n",
       "      <th>Date</th>\n",
       "      <th>AQI</th>\n",
       "      <th>Category</th>\n",
       "      <th>Defining Parameter</th>\n",
       "      <th>Defining Site</th>\n",
       "      <th>Number of Sites Reporting</th>\n",
       "    </tr>\n",
       "  </thead>\n",
       "  <tbody>\n",
       "    <tr>\n",
       "      <th>0</th>\n",
       "      <td>Alabama</td>\n",
       "      <td>Autauga</td>\n",
       "      <td>1</td>\n",
       "      <td>1</td>\n",
       "      <td>1981-01-01</td>\n",
       "      <td>43</td>\n",
       "      <td>Good</td>\n",
       "      <td>Ozone</td>\n",
       "      <td>01-001-0002</td>\n",
       "      <td>1</td>\n",
       "    </tr>\n",
       "    <tr>\n",
       "      <th>1</th>\n",
       "      <td>Alabama</td>\n",
       "      <td>Autauga</td>\n",
       "      <td>1</td>\n",
       "      <td>1</td>\n",
       "      <td>1981-01-02</td>\n",
       "      <td>29</td>\n",
       "      <td>Good</td>\n",
       "      <td>Ozone</td>\n",
       "      <td>01-001-0002</td>\n",
       "      <td>1</td>\n",
       "    </tr>\n",
       "    <tr>\n",
       "      <th>2</th>\n",
       "      <td>Alabama</td>\n",
       "      <td>Autauga</td>\n",
       "      <td>1</td>\n",
       "      <td>1</td>\n",
       "      <td>1981-01-03</td>\n",
       "      <td>39</td>\n",
       "      <td>Good</td>\n",
       "      <td>Ozone</td>\n",
       "      <td>01-001-0002</td>\n",
       "      <td>1</td>\n",
       "    </tr>\n",
       "    <tr>\n",
       "      <th>3</th>\n",
       "      <td>Alabama</td>\n",
       "      <td>Autauga</td>\n",
       "      <td>1</td>\n",
       "      <td>1</td>\n",
       "      <td>1981-01-04</td>\n",
       "      <td>33</td>\n",
       "      <td>Good</td>\n",
       "      <td>Ozone</td>\n",
       "      <td>01-001-0002</td>\n",
       "      <td>1</td>\n",
       "    </tr>\n",
       "    <tr>\n",
       "      <th>4</th>\n",
       "      <td>Alabama</td>\n",
       "      <td>Autauga</td>\n",
       "      <td>1</td>\n",
       "      <td>1</td>\n",
       "      <td>1981-01-05</td>\n",
       "      <td>31</td>\n",
       "      <td>Good</td>\n",
       "      <td>Ozone</td>\n",
       "      <td>01-001-0002</td>\n",
       "      <td>1</td>\n",
       "    </tr>\n",
       "  </tbody>\n",
       "</table>\n",
       "</div>"
      ],
      "text/plain": [
       "  State Name county Name  State Code  County Code        Date  AQI Category  \\\n",
       "0    Alabama     Autauga           1            1  1981-01-01   43     Good   \n",
       "1    Alabama     Autauga           1            1  1981-01-02   29     Good   \n",
       "2    Alabama     Autauga           1            1  1981-01-03   39     Good   \n",
       "3    Alabama     Autauga           1            1  1981-01-04   33     Good   \n",
       "4    Alabama     Autauga           1            1  1981-01-05   31     Good   \n",
       "\n",
       "  Defining Parameter Defining Site  Number of Sites Reporting  \n",
       "0              Ozone   01-001-0002                          1  \n",
       "1              Ozone   01-001-0002                          1  \n",
       "2              Ozone   01-001-0002                          1  \n",
       "3              Ozone   01-001-0002                          1  \n",
       "4              Ozone   01-001-0002                          1  "
      ]
     },
     "execution_count": 11,
     "metadata": {},
     "output_type": "execute_result"
    }
   ],
   "source": [
    "dataset = pd.read_csv('daily_aqi_by_county_1981.csv')\n",
    "dataset.head()"
   ]
  },
  {
   "cell_type": "code",
   "execution_count": 12,
   "id": "d40439e0",
   "metadata": {
    "scrolled": true
   },
   "outputs": [
    {
     "data": {
      "text/html": [
       "<div>\n",
       "<style scoped>\n",
       "    .dataframe tbody tr th:only-of-type {\n",
       "        vertical-align: middle;\n",
       "    }\n",
       "\n",
       "    .dataframe tbody tr th {\n",
       "        vertical-align: top;\n",
       "    }\n",
       "\n",
       "    .dataframe thead th {\n",
       "        text-align: right;\n",
       "    }\n",
       "</style>\n",
       "<table border=\"1\" class=\"dataframe\">\n",
       "  <thead>\n",
       "    <tr style=\"text-align: right;\">\n",
       "      <th></th>\n",
       "      <th>State Name</th>\n",
       "      <th>county Name</th>\n",
       "      <th>State Code</th>\n",
       "      <th>County Code</th>\n",
       "      <th>Date</th>\n",
       "      <th>AQI</th>\n",
       "      <th>Category</th>\n",
       "      <th>Defining Parameter</th>\n",
       "      <th>Defining Site</th>\n",
       "      <th>Number of Sites Reporting</th>\n",
       "    </tr>\n",
       "  </thead>\n",
       "  <tbody>\n",
       "    <tr>\n",
       "      <th>0</th>\n",
       "      <td>Alabama</td>\n",
       "      <td>Autauga</td>\n",
       "      <td>1</td>\n",
       "      <td>1</td>\n",
       "      <td>1981-01-01</td>\n",
       "      <td>43</td>\n",
       "      <td>Good</td>\n",
       "      <td>Ozone</td>\n",
       "      <td>01-001-0002</td>\n",
       "      <td>1</td>\n",
       "    </tr>\n",
       "    <tr>\n",
       "      <th>1</th>\n",
       "      <td>Alabama</td>\n",
       "      <td>Autauga</td>\n",
       "      <td>1</td>\n",
       "      <td>1</td>\n",
       "      <td>1981-01-02</td>\n",
       "      <td>29</td>\n",
       "      <td>Good</td>\n",
       "      <td>Ozone</td>\n",
       "      <td>01-001-0002</td>\n",
       "      <td>1</td>\n",
       "    </tr>\n",
       "    <tr>\n",
       "      <th>2</th>\n",
       "      <td>Alabama</td>\n",
       "      <td>Autauga</td>\n",
       "      <td>1</td>\n",
       "      <td>1</td>\n",
       "      <td>1981-01-03</td>\n",
       "      <td>39</td>\n",
       "      <td>Good</td>\n",
       "      <td>Ozone</td>\n",
       "      <td>01-001-0002</td>\n",
       "      <td>1</td>\n",
       "    </tr>\n",
       "    <tr>\n",
       "      <th>3</th>\n",
       "      <td>Alabama</td>\n",
       "      <td>Autauga</td>\n",
       "      <td>1</td>\n",
       "      <td>1</td>\n",
       "      <td>1981-01-04</td>\n",
       "      <td>33</td>\n",
       "      <td>Good</td>\n",
       "      <td>Ozone</td>\n",
       "      <td>01-001-0002</td>\n",
       "      <td>1</td>\n",
       "    </tr>\n",
       "    <tr>\n",
       "      <th>4</th>\n",
       "      <td>Alabama</td>\n",
       "      <td>Autauga</td>\n",
       "      <td>1</td>\n",
       "      <td>1</td>\n",
       "      <td>1981-01-05</td>\n",
       "      <td>31</td>\n",
       "      <td>Good</td>\n",
       "      <td>Ozone</td>\n",
       "      <td>01-001-0002</td>\n",
       "      <td>1</td>\n",
       "    </tr>\n",
       "  </tbody>\n",
       "</table>\n",
       "</div>"
      ],
      "text/plain": [
       "  State Name county Name  State Code  County Code        Date  AQI Category  \\\n",
       "0    Alabama     Autauga           1            1  1981-01-01   43     Good   \n",
       "1    Alabama     Autauga           1            1  1981-01-02   29     Good   \n",
       "2    Alabama     Autauga           1            1  1981-01-03   39     Good   \n",
       "3    Alabama     Autauga           1            1  1981-01-04   33     Good   \n",
       "4    Alabama     Autauga           1            1  1981-01-05   31     Good   \n",
       "\n",
       "  Defining Parameter Defining Site  Number of Sites Reporting  \n",
       "0              Ozone   01-001-0002                          1  \n",
       "1              Ozone   01-001-0002                          1  \n",
       "2              Ozone   01-001-0002                          1  \n",
       "3              Ozone   01-001-0002                          1  \n",
       "4              Ozone   01-001-0002                          1  "
      ]
     },
     "execution_count": 12,
     "metadata": {},
     "output_type": "execute_result"
    }
   ],
   "source": [
    "dataset.to_csv('pollution.csv')\n",
    "df = pd.read_csv('pollution.csv', header=0, index_col=0)\n",
    "df.head()"
   ]
  },
  {
   "cell_type": "code",
   "execution_count": 13,
   "id": "54d7d4f5",
   "metadata": {},
   "outputs": [
    {
     "data": {
      "text/plain": [
       "['State Name',\n",
       " 'county Name',\n",
       " 'State Code',\n",
       " 'County Code',\n",
       " 'Date',\n",
       " 'AQI',\n",
       " 'Category',\n",
       " 'Defining Parameter',\n",
       " 'Defining Site',\n",
       " 'Number of Sites Reporting']"
      ]
     },
     "execution_count": 13,
     "metadata": {},
     "output_type": "execute_result"
    }
   ],
   "source": [
    "dataset_columns = df.columns.tolist()\n",
    "dataset_columns"
   ]
  },
  {
   "cell_type": "code",
   "execution_count": 14,
   "id": "c9c00a1f",
   "metadata": {},
   "outputs": [
    {
     "data": {
      "text/html": [
       "<div>\n",
       "<style scoped>\n",
       "    .dataframe tbody tr th:only-of-type {\n",
       "        vertical-align: middle;\n",
       "    }\n",
       "\n",
       "    .dataframe tbody tr th {\n",
       "        vertical-align: top;\n",
       "    }\n",
       "\n",
       "    .dataframe thead th {\n",
       "        text-align: right;\n",
       "    }\n",
       "</style>\n",
       "<table border=\"1\" class=\"dataframe\">\n",
       "  <thead>\n",
       "    <tr style=\"text-align: right;\">\n",
       "      <th></th>\n",
       "      <th>State Name</th>\n",
       "      <th>AQI</th>\n",
       "    </tr>\n",
       "  </thead>\n",
       "  <tbody>\n",
       "    <tr>\n",
       "      <th>0</th>\n",
       "      <td>Alabama</td>\n",
       "      <td>43</td>\n",
       "    </tr>\n",
       "    <tr>\n",
       "      <th>1</th>\n",
       "      <td>Alabama</td>\n",
       "      <td>29</td>\n",
       "    </tr>\n",
       "    <tr>\n",
       "      <th>2</th>\n",
       "      <td>Alabama</td>\n",
       "      <td>39</td>\n",
       "    </tr>\n",
       "    <tr>\n",
       "      <th>3</th>\n",
       "      <td>Alabama</td>\n",
       "      <td>33</td>\n",
       "    </tr>\n",
       "    <tr>\n",
       "      <th>4</th>\n",
       "      <td>Alabama</td>\n",
       "      <td>31</td>\n",
       "    </tr>\n",
       "  </tbody>\n",
       "</table>\n",
       "</div>"
      ],
      "text/plain": [
       "  State Name  AQI\n",
       "0    Alabama   43\n",
       "1    Alabama   29\n",
       "2    Alabama   39\n",
       "3    Alabama   33\n",
       "4    Alabama   31"
      ]
     },
     "execution_count": 14,
     "metadata": {},
     "output_type": "execute_result"
    }
   ],
   "source": [
    "df_state_aqi=df.drop(['county Name',\n",
    " 'State Code',\n",
    " 'County Code',\n",
    " 'Date',\n",
    " 'Category',\n",
    " 'Defining Parameter',\n",
    " 'Defining Site',\n",
    " 'Number of Sites Reporting'], axis=1)\n",
    "df_state_aqi.head()"
   ]
  },
  {
   "cell_type": "code",
   "execution_count": 15,
   "id": "9d206379",
   "metadata": {},
   "outputs": [],
   "source": [
    "il_aqi_1981 = df_state_aqi.loc[df_state_aqi['State Name']=='Illinois'].drop(columns=['State Name'])"
   ]
  },
  {
   "cell_type": "markdown",
   "id": "08e4973e",
   "metadata": {},
   "source": [
    "# 1982"
   ]
  },
  {
   "cell_type": "code",
   "execution_count": 16,
   "id": "e84839d9",
   "metadata": {
    "scrolled": true
   },
   "outputs": [
    {
     "data": {
      "text/plain": [
       "['State Name',\n",
       " 'county Name',\n",
       " 'State Code',\n",
       " 'County Code',\n",
       " 'Date',\n",
       " 'AQI',\n",
       " 'Category',\n",
       " 'Defining Parameter',\n",
       " 'Defining Site',\n",
       " 'Number of Sites Reporting']"
      ]
     },
     "execution_count": 16,
     "metadata": {},
     "output_type": "execute_result"
    }
   ],
   "source": [
    "dataset = pd.read_csv('daily_aqi_by_county_1982.csv')\n",
    "dataset.to_csv('pollution.csv')\n",
    "df = pd.read_csv('pollution.csv', header=0, index_col=0)\n",
    "df.head()\n",
    "dataset_columns = df.columns.tolist()\n",
    "dataset_columns"
   ]
  },
  {
   "cell_type": "code",
   "execution_count": 17,
   "id": "71277cda",
   "metadata": {},
   "outputs": [
    {
     "data": {
      "text/html": [
       "<div>\n",
       "<style scoped>\n",
       "    .dataframe tbody tr th:only-of-type {\n",
       "        vertical-align: middle;\n",
       "    }\n",
       "\n",
       "    .dataframe tbody tr th {\n",
       "        vertical-align: top;\n",
       "    }\n",
       "\n",
       "    .dataframe thead th {\n",
       "        text-align: right;\n",
       "    }\n",
       "</style>\n",
       "<table border=\"1\" class=\"dataframe\">\n",
       "  <thead>\n",
       "    <tr style=\"text-align: right;\">\n",
       "      <th></th>\n",
       "      <th>AQI</th>\n",
       "    </tr>\n",
       "  </thead>\n",
       "  <tbody>\n",
       "    <tr>\n",
       "      <th>31393</th>\n",
       "      <td>25</td>\n",
       "    </tr>\n",
       "    <tr>\n",
       "      <th>31394</th>\n",
       "      <td>19</td>\n",
       "    </tr>\n",
       "    <tr>\n",
       "      <th>31395</th>\n",
       "      <td>19</td>\n",
       "    </tr>\n",
       "    <tr>\n",
       "      <th>31396</th>\n",
       "      <td>29</td>\n",
       "    </tr>\n",
       "    <tr>\n",
       "      <th>31397</th>\n",
       "      <td>23</td>\n",
       "    </tr>\n",
       "  </tbody>\n",
       "</table>\n",
       "</div>"
      ],
      "text/plain": [
       "       AQI\n",
       "31393   25\n",
       "31394   19\n",
       "31395   19\n",
       "31396   29\n",
       "31397   23"
      ]
     },
     "execution_count": 17,
     "metadata": {},
     "output_type": "execute_result"
    }
   ],
   "source": [
    "df_state_aqi=df.drop(['county Name',\n",
    " 'State Code',\n",
    " 'County Code',\n",
    " 'Date',\n",
    " 'Category',\n",
    " 'Defining Parameter',\n",
    " 'Defining Site',\n",
    " 'Number of Sites Reporting'], axis=1)\n",
    "il_aqi_1982 = df_state_aqi.loc[df_state_aqi['State Name']=='Illinois'].drop(columns=['State Name'])\n",
    "il_aqi_1982.head()"
   ]
  },
  {
   "cell_type": "markdown",
   "id": "22396fff",
   "metadata": {},
   "source": [
    "# 1983"
   ]
  },
  {
   "cell_type": "code",
   "execution_count": 18,
   "id": "1d686bc4",
   "metadata": {},
   "outputs": [
    {
     "data": {
      "text/html": [
       "<div>\n",
       "<style scoped>\n",
       "    .dataframe tbody tr th:only-of-type {\n",
       "        vertical-align: middle;\n",
       "    }\n",
       "\n",
       "    .dataframe tbody tr th {\n",
       "        vertical-align: top;\n",
       "    }\n",
       "\n",
       "    .dataframe thead th {\n",
       "        text-align: right;\n",
       "    }\n",
       "</style>\n",
       "<table border=\"1\" class=\"dataframe\">\n",
       "  <thead>\n",
       "    <tr style=\"text-align: right;\">\n",
       "      <th></th>\n",
       "      <th>AQI</th>\n",
       "    </tr>\n",
       "  </thead>\n",
       "  <tbody>\n",
       "    <tr>\n",
       "      <th>30255</th>\n",
       "      <td>17</td>\n",
       "    </tr>\n",
       "    <tr>\n",
       "      <th>30256</th>\n",
       "      <td>19</td>\n",
       "    </tr>\n",
       "    <tr>\n",
       "      <th>30257</th>\n",
       "      <td>18</td>\n",
       "    </tr>\n",
       "    <tr>\n",
       "      <th>30258</th>\n",
       "      <td>12</td>\n",
       "    </tr>\n",
       "    <tr>\n",
       "      <th>30259</th>\n",
       "      <td>12</td>\n",
       "    </tr>\n",
       "  </tbody>\n",
       "</table>\n",
       "</div>"
      ],
      "text/plain": [
       "       AQI\n",
       "30255   17\n",
       "30256   19\n",
       "30257   18\n",
       "30258   12\n",
       "30259   12"
      ]
     },
     "execution_count": 18,
     "metadata": {},
     "output_type": "execute_result"
    }
   ],
   "source": [
    "dataset = pd.read_csv('daily_aqi_by_county_1983.csv')\n",
    "dataset.to_csv('pollution.csv')\n",
    "df = pd.read_csv('pollution.csv', header=0, index_col=0)\n",
    "df.head()\n",
    "dataset_columns = df.columns.tolist()\n",
    "df_state_aqi=df.drop(['county Name',\n",
    " 'State Code',\n",
    " 'County Code',\n",
    " 'Date',\n",
    " 'Category',\n",
    " 'Defining Parameter',\n",
    " 'Defining Site',\n",
    " 'Number of Sites Reporting'], axis=1)\n",
    "il_aqi_1983 = df_state_aqi.loc[df_state_aqi['State Name']=='Illinois'].drop(columns=['State Name'])\n",
    "il_aqi_1983.head()"
   ]
  },
  {
   "cell_type": "markdown",
   "id": "86a3781c",
   "metadata": {},
   "source": [
    "# 1984"
   ]
  },
  {
   "cell_type": "code",
   "execution_count": 19,
   "id": "110a8cee",
   "metadata": {},
   "outputs": [
    {
     "data": {
      "text/html": [
       "<div>\n",
       "<style scoped>\n",
       "    .dataframe tbody tr th:only-of-type {\n",
       "        vertical-align: middle;\n",
       "    }\n",
       "\n",
       "    .dataframe tbody tr th {\n",
       "        vertical-align: top;\n",
       "    }\n",
       "\n",
       "    .dataframe thead th {\n",
       "        text-align: right;\n",
       "    }\n",
       "</style>\n",
       "<table border=\"1\" class=\"dataframe\">\n",
       "  <thead>\n",
       "    <tr style=\"text-align: right;\">\n",
       "      <th></th>\n",
       "      <th>AQI</th>\n",
       "    </tr>\n",
       "  </thead>\n",
       "  <tbody>\n",
       "    <tr>\n",
       "      <th>29750</th>\n",
       "      <td>27</td>\n",
       "    </tr>\n",
       "    <tr>\n",
       "      <th>29751</th>\n",
       "      <td>31</td>\n",
       "    </tr>\n",
       "    <tr>\n",
       "      <th>29752</th>\n",
       "      <td>24</td>\n",
       "    </tr>\n",
       "    <tr>\n",
       "      <th>29753</th>\n",
       "      <td>16</td>\n",
       "    </tr>\n",
       "    <tr>\n",
       "      <th>29754</th>\n",
       "      <td>15</td>\n",
       "    </tr>\n",
       "  </tbody>\n",
       "</table>\n",
       "</div>"
      ],
      "text/plain": [
       "       AQI\n",
       "29750   27\n",
       "29751   31\n",
       "29752   24\n",
       "29753   16\n",
       "29754   15"
      ]
     },
     "execution_count": 19,
     "metadata": {},
     "output_type": "execute_result"
    }
   ],
   "source": [
    "dataset = pd.read_csv('daily_aqi_by_county_1984.csv')\n",
    "dataset.to_csv('pollution.csv')\n",
    "df = pd.read_csv('pollution.csv', header=0, index_col=0)\n",
    "df.head()\n",
    "dataset_columns = df.columns.tolist()\n",
    "df_state_aqi=df.drop(['county Name',\n",
    " 'State Code',\n",
    " 'County Code',\n",
    " 'Date',\n",
    " 'Category',\n",
    " 'Defining Parameter',\n",
    " 'Defining Site',\n",
    " 'Number of Sites Reporting'], axis=1)\n",
    "il_aqi_1984 = df_state_aqi.loc[df_state_aqi['State Name']=='Illinois'].drop(columns=['State Name'])\n",
    "il_aqi_1984.head()"
   ]
  },
  {
   "cell_type": "markdown",
   "id": "2f83b56f",
   "metadata": {},
   "source": [
    "# 1985"
   ]
  },
  {
   "cell_type": "code",
   "execution_count": 20,
   "id": "05309d96",
   "metadata": {},
   "outputs": [
    {
     "data": {
      "text/html": [
       "<div>\n",
       "<style scoped>\n",
       "    .dataframe tbody tr th:only-of-type {\n",
       "        vertical-align: middle;\n",
       "    }\n",
       "\n",
       "    .dataframe tbody tr th {\n",
       "        vertical-align: top;\n",
       "    }\n",
       "\n",
       "    .dataframe thead th {\n",
       "        text-align: right;\n",
       "    }\n",
       "</style>\n",
       "<table border=\"1\" class=\"dataframe\">\n",
       "  <thead>\n",
       "    <tr style=\"text-align: right;\">\n",
       "      <th></th>\n",
       "      <th>AQI</th>\n",
       "    </tr>\n",
       "  </thead>\n",
       "  <tbody>\n",
       "    <tr>\n",
       "      <th>30745</th>\n",
       "      <td>27</td>\n",
       "    </tr>\n",
       "    <tr>\n",
       "      <th>30746</th>\n",
       "      <td>21</td>\n",
       "    </tr>\n",
       "    <tr>\n",
       "      <th>30747</th>\n",
       "      <td>23</td>\n",
       "    </tr>\n",
       "    <tr>\n",
       "      <th>30748</th>\n",
       "      <td>24</td>\n",
       "    </tr>\n",
       "    <tr>\n",
       "      <th>30749</th>\n",
       "      <td>21</td>\n",
       "    </tr>\n",
       "  </tbody>\n",
       "</table>\n",
       "</div>"
      ],
      "text/plain": [
       "       AQI\n",
       "30745   27\n",
       "30746   21\n",
       "30747   23\n",
       "30748   24\n",
       "30749   21"
      ]
     },
     "execution_count": 20,
     "metadata": {},
     "output_type": "execute_result"
    }
   ],
   "source": [
    "dataset = pd.read_csv('daily_aqi_by_county_1985.csv')\n",
    "dataset.to_csv('pollution.csv')\n",
    "df = pd.read_csv('pollution.csv', header=0, index_col=0)\n",
    "df.head()\n",
    "dataset_columns = df.columns.tolist()\n",
    "df_state_aqi=df.drop(['county Name',\n",
    " 'State Code',\n",
    " 'County Code',\n",
    " 'Date',\n",
    " 'Category',\n",
    " 'Defining Parameter',\n",
    " 'Defining Site',\n",
    " 'Number of Sites Reporting'], axis=1)\n",
    "il_aqi_1985 = df_state_aqi.loc[df_state_aqi['State Name']=='Illinois'].drop(columns=['State Name'])\n",
    "il_aqi_1985.head()"
   ]
  },
  {
   "cell_type": "markdown",
   "id": "82403c4c",
   "metadata": {},
   "source": [
    "# 1986"
   ]
  },
  {
   "cell_type": "code",
   "execution_count": 21,
   "id": "fde7614b",
   "metadata": {},
   "outputs": [
    {
     "data": {
      "text/html": [
       "<div>\n",
       "<style scoped>\n",
       "    .dataframe tbody tr th:only-of-type {\n",
       "        vertical-align: middle;\n",
       "    }\n",
       "\n",
       "    .dataframe tbody tr th {\n",
       "        vertical-align: top;\n",
       "    }\n",
       "\n",
       "    .dataframe thead th {\n",
       "        text-align: right;\n",
       "    }\n",
       "</style>\n",
       "<table border=\"1\" class=\"dataframe\">\n",
       "  <thead>\n",
       "    <tr style=\"text-align: right;\">\n",
       "      <th></th>\n",
       "      <th>AQI</th>\n",
       "    </tr>\n",
       "  </thead>\n",
       "  <tbody>\n",
       "    <tr>\n",
       "      <th>32140</th>\n",
       "      <td>26</td>\n",
       "    </tr>\n",
       "    <tr>\n",
       "      <th>32141</th>\n",
       "      <td>21</td>\n",
       "    </tr>\n",
       "    <tr>\n",
       "      <th>32142</th>\n",
       "      <td>19</td>\n",
       "    </tr>\n",
       "    <tr>\n",
       "      <th>32143</th>\n",
       "      <td>30</td>\n",
       "    </tr>\n",
       "    <tr>\n",
       "      <th>32144</th>\n",
       "      <td>27</td>\n",
       "    </tr>\n",
       "  </tbody>\n",
       "</table>\n",
       "</div>"
      ],
      "text/plain": [
       "       AQI\n",
       "32140   26\n",
       "32141   21\n",
       "32142   19\n",
       "32143   30\n",
       "32144   27"
      ]
     },
     "execution_count": 21,
     "metadata": {},
     "output_type": "execute_result"
    }
   ],
   "source": [
    "dataset = pd.read_csv('daily_aqi_by_county_1986.csv')\n",
    "dataset.to_csv('pollution.csv')\n",
    "df = pd.read_csv('pollution.csv', header=0, index_col=0)\n",
    "df.head()\n",
    "dataset_columns = df.columns.tolist()\n",
    "df_state_aqi=df.drop(['county Name',\n",
    " 'State Code',\n",
    " 'County Code',\n",
    " 'Date',\n",
    " 'Category',\n",
    " 'Defining Parameter',\n",
    " 'Defining Site',\n",
    " 'Number of Sites Reporting'], axis=1)\n",
    "il_aqi_1986 = df_state_aqi.loc[df_state_aqi['State Name']=='Illinois'].drop(columns=['State Name'])\n",
    "il_aqi_1986.head()"
   ]
  },
  {
   "cell_type": "markdown",
   "id": "1174fca0",
   "metadata": {},
   "source": [
    "# 1987"
   ]
  },
  {
   "cell_type": "code",
   "execution_count": 22,
   "id": "eb345c55",
   "metadata": {},
   "outputs": [
    {
     "data": {
      "text/html": [
       "<div>\n",
       "<style scoped>\n",
       "    .dataframe tbody tr th:only-of-type {\n",
       "        vertical-align: middle;\n",
       "    }\n",
       "\n",
       "    .dataframe tbody tr th {\n",
       "        vertical-align: top;\n",
       "    }\n",
       "\n",
       "    .dataframe thead th {\n",
       "        text-align: right;\n",
       "    }\n",
       "</style>\n",
       "<table border=\"1\" class=\"dataframe\">\n",
       "  <thead>\n",
       "    <tr style=\"text-align: right;\">\n",
       "      <th></th>\n",
       "      <th>AQI</th>\n",
       "    </tr>\n",
       "  </thead>\n",
       "  <tbody>\n",
       "    <tr>\n",
       "      <th>34243</th>\n",
       "      <td>19</td>\n",
       "    </tr>\n",
       "    <tr>\n",
       "      <th>34244</th>\n",
       "      <td>7</td>\n",
       "    </tr>\n",
       "    <tr>\n",
       "      <th>34245</th>\n",
       "      <td>20</td>\n",
       "    </tr>\n",
       "    <tr>\n",
       "      <th>34246</th>\n",
       "      <td>25</td>\n",
       "    </tr>\n",
       "    <tr>\n",
       "      <th>34247</th>\n",
       "      <td>19</td>\n",
       "    </tr>\n",
       "  </tbody>\n",
       "</table>\n",
       "</div>"
      ],
      "text/plain": [
       "       AQI\n",
       "34243   19\n",
       "34244    7\n",
       "34245   20\n",
       "34246   25\n",
       "34247   19"
      ]
     },
     "execution_count": 22,
     "metadata": {},
     "output_type": "execute_result"
    }
   ],
   "source": [
    "dataset = pd.read_csv('daily_aqi_by_county_1987.csv')\n",
    "dataset.to_csv('pollution.csv')\n",
    "df = pd.read_csv('pollution.csv', header=0, index_col=0)\n",
    "df.head()\n",
    "dataset_columns = df.columns.tolist()\n",
    "df_state_aqi=df.drop(['county Name',\n",
    " 'State Code',\n",
    " 'County Code',\n",
    " 'Date',\n",
    " 'Category',\n",
    " 'Defining Parameter',\n",
    " 'Defining Site',\n",
    " 'Number of Sites Reporting'], axis=1)\n",
    "il_aqi_1987 = df_state_aqi.loc[df_state_aqi['State Name']=='Illinois'].drop(columns=['State Name'])\n",
    "il_aqi_1987.head()"
   ]
  },
  {
   "cell_type": "markdown",
   "id": "ae454774",
   "metadata": {},
   "source": [
    "# 1988"
   ]
  },
  {
   "cell_type": "code",
   "execution_count": 23,
   "id": "d3a2e11f",
   "metadata": {},
   "outputs": [
    {
     "data": {
      "text/html": [
       "<div>\n",
       "<style scoped>\n",
       "    .dataframe tbody tr th:only-of-type {\n",
       "        vertical-align: middle;\n",
       "    }\n",
       "\n",
       "    .dataframe tbody tr th {\n",
       "        vertical-align: top;\n",
       "    }\n",
       "\n",
       "    .dataframe thead th {\n",
       "        text-align: right;\n",
       "    }\n",
       "</style>\n",
       "<table border=\"1\" class=\"dataframe\">\n",
       "  <thead>\n",
       "    <tr style=\"text-align: right;\">\n",
       "      <th></th>\n",
       "      <th>AQI</th>\n",
       "    </tr>\n",
       "  </thead>\n",
       "  <tbody>\n",
       "    <tr>\n",
       "      <th>36551</th>\n",
       "      <td>27</td>\n",
       "    </tr>\n",
       "    <tr>\n",
       "      <th>36552</th>\n",
       "      <td>25</td>\n",
       "    </tr>\n",
       "    <tr>\n",
       "      <th>36553</th>\n",
       "      <td>23</td>\n",
       "    </tr>\n",
       "    <tr>\n",
       "      <th>36554</th>\n",
       "      <td>27</td>\n",
       "    </tr>\n",
       "    <tr>\n",
       "      <th>36555</th>\n",
       "      <td>26</td>\n",
       "    </tr>\n",
       "  </tbody>\n",
       "</table>\n",
       "</div>"
      ],
      "text/plain": [
       "       AQI\n",
       "36551   27\n",
       "36552   25\n",
       "36553   23\n",
       "36554   27\n",
       "36555   26"
      ]
     },
     "execution_count": 23,
     "metadata": {},
     "output_type": "execute_result"
    }
   ],
   "source": [
    "dataset = pd.read_csv('daily_aqi_by_county_1988.csv')\n",
    "dataset.to_csv('pollution.csv')\n",
    "df = pd.read_csv('pollution.csv', header=0, index_col=0)\n",
    "df.head()\n",
    "dataset_columns = df.columns.tolist()\n",
    "df_state_aqi=df.drop(['county Name',\n",
    " 'State Code',\n",
    " 'County Code',\n",
    " 'Date',\n",
    " 'Category',\n",
    " 'Defining Parameter',\n",
    " 'Defining Site',\n",
    " 'Number of Sites Reporting'], axis=1)\n",
    "il_aqi_1988 = df_state_aqi.loc[df_state_aqi['State Name']=='Illinois'].drop(columns=['State Name'])\n",
    "il_aqi_1988.head()"
   ]
  },
  {
   "cell_type": "markdown",
   "id": "5a46e359",
   "metadata": {},
   "source": [
    "# 1989"
   ]
  },
  {
   "cell_type": "code",
   "execution_count": 24,
   "id": "20d40521",
   "metadata": {},
   "outputs": [],
   "source": [
    "dataset = pd.read_csv('daily_aqi_by_county_1989.csv')\n",
    "dataset.to_csv('pollution.csv')\n",
    "df = pd.read_csv('pollution.csv', header=0, index_col=0)\n",
    "df.head()\n",
    "dataset_columns = df.columns.tolist()\n",
    "df_state_aqi=df.drop(['county Name',\n",
    " 'State Code',\n",
    " 'County Code',\n",
    " 'Date',\n",
    " 'Category',\n",
    " 'Defining Parameter',\n",
    " 'Defining Site',\n",
    " 'Number of Sites Reporting'], axis=1)\n",
    "il_aqi_1989 = df_state_aqi.loc[df_state_aqi['State Name']=='Illinois'].drop(columns=['State Name'])"
   ]
  },
  {
   "cell_type": "markdown",
   "id": "92c3129b",
   "metadata": {},
   "source": [
    "# 1990"
   ]
  },
  {
   "cell_type": "code",
   "execution_count": 25,
   "id": "6ec56dbe",
   "metadata": {},
   "outputs": [],
   "source": [
    "#finding most efficient wat to create chronological dfs \n",
    "dataset = pd.read_csv('daily_aqi_by_county_1990.csv')\n",
    "dataset.to_csv('pollution.csv')\n",
    "df = pd.read_csv('pollution.csv', header=0, index_col=0)\n",
    "df.head()\n",
    "dataset_columns = df.columns.tolist()\n",
    "df_state_aqi=df.drop(['county Name',\n",
    " 'State Code',\n",
    " 'County Code',\n",
    " 'Date',\n",
    " 'Category',\n",
    " 'Defining Parameter',\n",
    " 'Defining Site',\n",
    " 'Number of Sites Reporting'], axis=1)\n",
    "il_aqi_1990 = df_state_aqi.loc[df_state_aqi['State Name']=='Illinois'].drop(columns=['State Name'])"
   ]
  },
  {
   "cell_type": "markdown",
   "id": "7a0a51c9",
   "metadata": {},
   "source": [
    "# 1991"
   ]
  },
  {
   "cell_type": "code",
   "execution_count": 26,
   "id": "c5a859de",
   "metadata": {},
   "outputs": [],
   "source": [
    "dataset = pd.read_csv('daily_aqi_by_county_1991.csv')\n",
    "dataset.to_csv('pollution.csv')\n",
    "df = pd.read_csv('pollution.csv', header=0, index_col=0)\n",
    "df.head()\n",
    "dataset_columns = df.columns.tolist()\n",
    "df_state_aqi=df.drop(['county Name',\n",
    " 'State Code',\n",
    " 'County Code',\n",
    " 'Date',\n",
    " 'Category',\n",
    " 'Defining Parameter',\n",
    " 'Defining Site',\n",
    " 'Number of Sites Reporting'], axis=1)\n",
    "il_aqi_1991 = df_state_aqi.loc[df_state_aqi['State Name']=='Illinois'].drop(columns=['State Name'])"
   ]
  },
  {
   "cell_type": "markdown",
   "id": "fb6e5e91",
   "metadata": {},
   "source": [
    "# 1992"
   ]
  },
  {
   "cell_type": "code",
   "execution_count": 27,
   "id": "7eda2169",
   "metadata": {},
   "outputs": [],
   "source": [
    "dataset = pd.read_csv('daily_aqi_by_county_1992.csv')\n",
    "dataset.to_csv('pollution.csv')\n",
    "df = pd.read_csv('pollution.csv', header=0, index_col=0)\n",
    "df.head()\n",
    "dataset_columns = df.columns.tolist()\n",
    "df_state_aqi=df.drop(['county Name',\n",
    " 'State Code',\n",
    " 'County Code',\n",
    " 'Date',\n",
    " 'Category',\n",
    " 'Defining Parameter',\n",
    " 'Defining Site',\n",
    " 'Number of Sites Reporting'], axis=1)\n",
    "il_aqi_1992 = df_state_aqi.loc[df_state_aqi['State Name']=='Illinois'].drop(columns=['State Name'])"
   ]
  },
  {
   "cell_type": "markdown",
   "id": "5fb30298",
   "metadata": {},
   "source": [
    "# 1993"
   ]
  },
  {
   "cell_type": "code",
   "execution_count": 28,
   "id": "4a37214e",
   "metadata": {},
   "outputs": [],
   "source": [
    "dataset = pd.read_csv('daily_aqi_by_county_1993.csv')\n",
    "dataset.to_csv('pollution.csv')\n",
    "df = pd.read_csv('pollution.csv', header=0, index_col=0)\n",
    "df.head()\n",
    "dataset_columns = df.columns.tolist()\n",
    "df_state_aqi=df.drop(['county Name',\n",
    " 'State Code',\n",
    " 'County Code',\n",
    " 'Date',\n",
    " 'Category',\n",
    " 'Defining Parameter',\n",
    " 'Defining Site',\n",
    " 'Number of Sites Reporting'], axis=1)\n",
    "il_aqi_1993 = df_state_aqi.loc[df_state_aqi['State Name']=='Illinois'].drop(columns=['State Name'])"
   ]
  },
  {
   "cell_type": "markdown",
   "id": "71fa79fc",
   "metadata": {},
   "source": [
    "# 1994 "
   ]
  },
  {
   "cell_type": "code",
   "execution_count": 29,
   "id": "43c3db91",
   "metadata": {},
   "outputs": [],
   "source": [
    "dataset = pd.read_csv('daily_aqi_by_county_1994.csv')\n",
    "dataset.to_csv('pollution.csv')\n",
    "df = pd.read_csv('pollution.csv', header=0, index_col=0)\n",
    "df.head()\n",
    "dataset_columns = df.columns.tolist()\n",
    "df_state_aqi=df.drop(['county Name',\n",
    " 'State Code',\n",
    " 'County Code',\n",
    " 'Date',\n",
    " 'Category',\n",
    " 'Defining Parameter',\n",
    " 'Defining Site',\n",
    " 'Number of Sites Reporting'], axis=1)\n",
    "il_aqi_1994 = df_state_aqi.loc[df_state_aqi['State Name']=='Illinois'].drop(columns=['State Name'])"
   ]
  },
  {
   "cell_type": "markdown",
   "id": "ca010489",
   "metadata": {},
   "source": [
    "# 1995"
   ]
  },
  {
   "cell_type": "code",
   "execution_count": 30,
   "id": "e8dbda33",
   "metadata": {},
   "outputs": [
    {
     "name": "stderr",
     "output_type": "stream",
     "text": [
      "/var/folders/4k/8phkr15d643gxspy_ftny_880000gn/T/ipykernel_2558/3070763262.py:1: DtypeWarning: Columns (2) have mixed types. Specify dtype option on import or set low_memory=False.\n",
      "  dataset = pd.read_csv('daily_aqi_by_county_1995.csv')\n",
      "/var/folders/4k/8phkr15d643gxspy_ftny_880000gn/T/ipykernel_2558/3070763262.py:3: DtypeWarning: Columns (3) have mixed types. Specify dtype option on import or set low_memory=False.\n",
      "  df = pd.read_csv('pollution.csv', header=0, index_col=0)\n"
     ]
    },
    {
     "data": {
      "text/html": [
       "<div>\n",
       "<style scoped>\n",
       "    .dataframe tbody tr th:only-of-type {\n",
       "        vertical-align: middle;\n",
       "    }\n",
       "\n",
       "    .dataframe tbody tr th {\n",
       "        vertical-align: top;\n",
       "    }\n",
       "\n",
       "    .dataframe thead th {\n",
       "        text-align: right;\n",
       "    }\n",
       "</style>\n",
       "<table border=\"1\" class=\"dataframe\">\n",
       "  <thead>\n",
       "    <tr style=\"text-align: right;\">\n",
       "      <th></th>\n",
       "      <th>AQI</th>\n",
       "    </tr>\n",
       "  </thead>\n",
       "  <tbody>\n",
       "    <tr>\n",
       "      <th>55644</th>\n",
       "      <td>26</td>\n",
       "    </tr>\n",
       "    <tr>\n",
       "      <th>55645</th>\n",
       "      <td>22</td>\n",
       "    </tr>\n",
       "    <tr>\n",
       "      <th>55646</th>\n",
       "      <td>24</td>\n",
       "    </tr>\n",
       "    <tr>\n",
       "      <th>55647</th>\n",
       "      <td>22</td>\n",
       "    </tr>\n",
       "    <tr>\n",
       "      <th>55648</th>\n",
       "      <td>22</td>\n",
       "    </tr>\n",
       "    <tr>\n",
       "      <th>...</th>\n",
       "      <td>...</td>\n",
       "    </tr>\n",
       "    <tr>\n",
       "      <th>63062</th>\n",
       "      <td>19</td>\n",
       "    </tr>\n",
       "    <tr>\n",
       "      <th>63063</th>\n",
       "      <td>30</td>\n",
       "    </tr>\n",
       "    <tr>\n",
       "      <th>63064</th>\n",
       "      <td>30</td>\n",
       "    </tr>\n",
       "    <tr>\n",
       "      <th>63065</th>\n",
       "      <td>19</td>\n",
       "    </tr>\n",
       "    <tr>\n",
       "      <th>63066</th>\n",
       "      <td>17</td>\n",
       "    </tr>\n",
       "  </tbody>\n",
       "</table>\n",
       "<p>7423 rows × 1 columns</p>\n",
       "</div>"
      ],
      "text/plain": [
       "       AQI\n",
       "55644   26\n",
       "55645   22\n",
       "55646   24\n",
       "55647   22\n",
       "55648   22\n",
       "...    ...\n",
       "63062   19\n",
       "63063   30\n",
       "63064   30\n",
       "63065   19\n",
       "63066   17\n",
       "\n",
       "[7423 rows x 1 columns]"
      ]
     },
     "execution_count": 30,
     "metadata": {},
     "output_type": "execute_result"
    }
   ],
   "source": [
    "dataset = pd.read_csv('daily_aqi_by_county_1995.csv')\n",
    "dataset.to_csv('pollution.csv')\n",
    "df = pd.read_csv('pollution.csv', header=0, index_col=0)\n",
    "df.head()\n",
    "dataset_columns = df.columns.tolist()\n",
    "df_state_aqi=df.drop(['county Name',\n",
    " 'State Code',\n",
    " 'County Code',\n",
    " 'Date',\n",
    " 'Category',\n",
    " 'Defining Parameter',\n",
    " 'Defining Site',\n",
    " 'Number of Sites Reporting'], axis=1)\n",
    "il_aqi_1995 = df_state_aqi.loc[df_state_aqi['State Name']=='Illinois'].drop(columns=['State Name'])\n",
    "il_aqi_1995"
   ]
  },
  {
   "cell_type": "markdown",
   "id": "c39ea28b",
   "metadata": {},
   "source": [
    "# 1996"
   ]
  },
  {
   "cell_type": "code",
   "execution_count": 31,
   "id": "8464de09",
   "metadata": {},
   "outputs": [
    {
     "name": "stderr",
     "output_type": "stream",
     "text": [
      "/var/folders/4k/8phkr15d643gxspy_ftny_880000gn/T/ipykernel_2558/1911429289.py:1: DtypeWarning: Columns (2) have mixed types. Specify dtype option on import or set low_memory=False.\n",
      "  dataset = pd.read_csv('daily_aqi_by_county_1996.csv')\n",
      "/var/folders/4k/8phkr15d643gxspy_ftny_880000gn/T/ipykernel_2558/1911429289.py:3: DtypeWarning: Columns (3) have mixed types. Specify dtype option on import or set low_memory=False.\n",
      "  df = pd.read_csv('pollution.csv', header=0, index_col=0)\n"
     ]
    }
   ],
   "source": [
    "dataset = pd.read_csv('daily_aqi_by_county_1996.csv')\n",
    "dataset.to_csv('pollution.csv')\n",
    "df = pd.read_csv('pollution.csv', header=0, index_col=0)\n",
    "df.head()\n",
    "dataset_columns = df.columns.tolist()\n",
    "df_state_aqi=df.drop(['county Name',\n",
    " 'State Code',\n",
    " 'County Code',\n",
    " 'Date',\n",
    " 'Category',\n",
    " 'Defining Parameter',\n",
    " 'Defining Site',\n",
    " 'Number of Sites Reporting'], axis=1)\n",
    "il_aqi_1996 = df_state_aqi.loc[df_state_aqi['State Name']=='Illinois'].drop(columns=['State Name'])"
   ]
  },
  {
   "cell_type": "markdown",
   "id": "c6634431",
   "metadata": {},
   "source": [
    "# 1997"
   ]
  },
  {
   "cell_type": "code",
   "execution_count": 32,
   "id": "5437c4c6",
   "metadata": {},
   "outputs": [
    {
     "name": "stderr",
     "output_type": "stream",
     "text": [
      "/var/folders/4k/8phkr15d643gxspy_ftny_880000gn/T/ipykernel_2558/2069457649.py:1: DtypeWarning: Columns (2) have mixed types. Specify dtype option on import or set low_memory=False.\n",
      "  dataset = pd.read_csv('daily_aqi_by_county_1997.csv')\n",
      "/var/folders/4k/8phkr15d643gxspy_ftny_880000gn/T/ipykernel_2558/2069457649.py:3: DtypeWarning: Columns (3) have mixed types. Specify dtype option on import or set low_memory=False.\n",
      "  df = pd.read_csv('pollution97.csv', header=0, index_col=0)\n"
     ]
    }
   ],
   "source": [
    "dataset = pd.read_csv('daily_aqi_by_county_1997.csv')\n",
    "dataset.to_csv('pollution97.csv')\n",
    "df = pd.read_csv('pollution97.csv', header=0, index_col=0)\n",
    "df.head()\n",
    "dataset_columns = df.columns.tolist()\n",
    "df_state_aqi=df.drop(['county Name',\n",
    " 'State Code',\n",
    " 'County Code',\n",
    " 'Date',\n",
    " 'Category',\n",
    " 'Defining Parameter',\n",
    " 'Defining Site',\n",
    " 'Number of Sites Reporting'], axis=1)\n",
    "il_aqi_1997 = df_state_aqi.loc[df_state_aqi['State Name']=='Illinois'].drop(columns=['State Name'])"
   ]
  },
  {
   "cell_type": "markdown",
   "id": "156d9b7e",
   "metadata": {},
   "source": [
    "# 1998"
   ]
  },
  {
   "cell_type": "code",
   "execution_count": 33,
   "id": "1b84395a",
   "metadata": {},
   "outputs": [
    {
     "name": "stderr",
     "output_type": "stream",
     "text": [
      "/var/folders/4k/8phkr15d643gxspy_ftny_880000gn/T/ipykernel_2558/1233466529.py:1: DtypeWarning: Columns (2) have mixed types. Specify dtype option on import or set low_memory=False.\n",
      "  dataset = pd.read_csv('daily_aqi_by_county_1998.csv')\n",
      "/var/folders/4k/8phkr15d643gxspy_ftny_880000gn/T/ipykernel_2558/1233466529.py:3: DtypeWarning: Columns (3) have mixed types. Specify dtype option on import or set low_memory=False.\n",
      "  df = pd.read_csv('pollution.csv', header=0, index_col=0)\n"
     ]
    }
   ],
   "source": [
    "dataset = pd.read_csv('daily_aqi_by_county_1998.csv')\n",
    "dataset.to_csv('pollution.csv')\n",
    "df = pd.read_csv('pollution.csv', header=0, index_col=0)\n",
    "df.head()\n",
    "dataset_columns = df.columns.tolist()\n",
    "df_state_aqi=df.drop(['county Name',\n",
    " 'State Code',\n",
    " 'County Code',\n",
    " 'Date',\n",
    " 'Category',\n",
    " 'Defining Parameter',\n",
    " 'Defining Site',\n",
    " 'Number of Sites Reporting'], axis=1)\n",
    "il_aqi_1998 = df_state_aqi.loc[df_state_aqi['State Name']=='Illinois'].drop(columns=['State Name'])"
   ]
  },
  {
   "cell_type": "markdown",
   "id": "4578a1a0",
   "metadata": {},
   "source": [
    "# 1999"
   ]
  },
  {
   "cell_type": "code",
   "execution_count": 34,
   "id": "f8ede9a9",
   "metadata": {},
   "outputs": [
    {
     "name": "stderr",
     "output_type": "stream",
     "text": [
      "/var/folders/4k/8phkr15d643gxspy_ftny_880000gn/T/ipykernel_2558/1475471900.py:1: DtypeWarning: Columns (2) have mixed types. Specify dtype option on import or set low_memory=False.\n",
      "  dataset = pd.read_csv('daily_aqi_by_county_1999.csv')\n",
      "/var/folders/4k/8phkr15d643gxspy_ftny_880000gn/T/ipykernel_2558/1475471900.py:3: DtypeWarning: Columns (3) have mixed types. Specify dtype option on import or set low_memory=False.\n",
      "  df = pd.read_csv('pollution.csv', header=0, index_col=0)\n"
     ]
    }
   ],
   "source": [
    "dataset = pd.read_csv('daily_aqi_by_county_1999.csv')\n",
    "dataset.to_csv('pollution.csv')\n",
    "df = pd.read_csv('pollution.csv', header=0, index_col=0)\n",
    "df.head()\n",
    "dataset_columns = df.columns.tolist()\n",
    "df_state_aqi=df.drop(['county Name',\n",
    " 'State Code',\n",
    " 'County Code',\n",
    " 'Date',\n",
    " 'Category',\n",
    " 'Defining Parameter',\n",
    " 'Defining Site',\n",
    " 'Number of Sites Reporting'], axis=1)\n",
    "il_aqi_1999 = df_state_aqi.loc[df_state_aqi['State Name']=='Illinois'].drop(columns=['State Name'])"
   ]
  },
  {
   "cell_type": "markdown",
   "id": "e2b99c53",
   "metadata": {},
   "source": [
    "# 2000"
   ]
  },
  {
   "cell_type": "code",
   "execution_count": 35,
   "id": "b3165330",
   "metadata": {},
   "outputs": [
    {
     "name": "stderr",
     "output_type": "stream",
     "text": [
      "/var/folders/4k/8phkr15d643gxspy_ftny_880000gn/T/ipykernel_2558/3647399815.py:1: DtypeWarning: Columns (2) have mixed types. Specify dtype option on import or set low_memory=False.\n",
      "  dataset = pd.read_csv('daily_aqi_by_county_2000.csv')\n",
      "/var/folders/4k/8phkr15d643gxspy_ftny_880000gn/T/ipykernel_2558/3647399815.py:3: DtypeWarning: Columns (3) have mixed types. Specify dtype option on import or set low_memory=False.\n",
      "  df = pd.read_csv('pollution.csv', header=0, index_col=0)\n"
     ]
    }
   ],
   "source": [
    "dataset = pd.read_csv('daily_aqi_by_county_2000.csv')\n",
    "dataset.to_csv('pollution.csv')\n",
    "df = pd.read_csv('pollution.csv', header=0, index_col=0)\n",
    "df.head()\n",
    "dataset_columns = df.columns.tolist()\n",
    "df_state_aqi=df.drop(['county Name',\n",
    " 'State Code',\n",
    " 'County Code',\n",
    " 'Date',\n",
    " 'Category',\n",
    " 'Defining Parameter',\n",
    " 'Defining Site',\n",
    " 'Number of Sites Reporting'], axis=1)\n",
    "il_aqi_2000= df_state_aqi.loc[df_state_aqi['State Name']=='Illinois'].drop(columns=['State Name'])"
   ]
  },
  {
   "cell_type": "markdown",
   "id": "6e847356",
   "metadata": {},
   "source": [
    "# 2001"
   ]
  },
  {
   "cell_type": "code",
   "execution_count": 36,
   "id": "1fc97667",
   "metadata": {},
   "outputs": [
    {
     "name": "stderr",
     "output_type": "stream",
     "text": [
      "/var/folders/4k/8phkr15d643gxspy_ftny_880000gn/T/ipykernel_2558/3607551973.py:1: DtypeWarning: Columns (2) have mixed types. Specify dtype option on import or set low_memory=False.\n",
      "  dataset = pd.read_csv('daily_aqi_by_county_2001.csv')\n",
      "/var/folders/4k/8phkr15d643gxspy_ftny_880000gn/T/ipykernel_2558/3607551973.py:3: DtypeWarning: Columns (3) have mixed types. Specify dtype option on import or set low_memory=False.\n",
      "  df = pd.read_csv('pollution.csv', header=0, index_col=0)\n"
     ]
    }
   ],
   "source": [
    "dataset = pd.read_csv('daily_aqi_by_county_2001.csv')\n",
    "dataset.to_csv('pollution.csv')\n",
    "df = pd.read_csv('pollution.csv', header=0, index_col=0)\n",
    "df.head()\n",
    "dataset_columns = df.columns.tolist()\n",
    "df_state_aqi=df.drop(['county Name',\n",
    " 'State Code',\n",
    " 'County Code',\n",
    " 'Date',\n",
    " 'Category',\n",
    " 'Defining Parameter',\n",
    " 'Defining Site',\n",
    " 'Number of Sites Reporting'], axis=1)\n",
    "il_aqi_2001= df_state_aqi.loc[df_state_aqi['State Name']=='Illinois'].drop(columns=['State Name'])"
   ]
  },
  {
   "cell_type": "markdown",
   "id": "3d7bc529",
   "metadata": {},
   "source": [
    "# 2002"
   ]
  },
  {
   "cell_type": "code",
   "execution_count": 37,
   "id": "41f01d83",
   "metadata": {},
   "outputs": [
    {
     "name": "stderr",
     "output_type": "stream",
     "text": [
      "/var/folders/4k/8phkr15d643gxspy_ftny_880000gn/T/ipykernel_2558/3330316553.py:1: DtypeWarning: Columns (2) have mixed types. Specify dtype option on import or set low_memory=False.\n",
      "  dataset = pd.read_csv('daily_aqi_by_county_2002.csv')\n",
      "/var/folders/4k/8phkr15d643gxspy_ftny_880000gn/T/ipykernel_2558/3330316553.py:3: DtypeWarning: Columns (3) have mixed types. Specify dtype option on import or set low_memory=False.\n",
      "  df = pd.read_csv('pollution.csv', header=0, index_col=0)\n"
     ]
    },
    {
     "data": {
      "text/html": [
       "<div>\n",
       "<style scoped>\n",
       "    .dataframe tbody tr th:only-of-type {\n",
       "        vertical-align: middle;\n",
       "    }\n",
       "\n",
       "    .dataframe tbody tr th {\n",
       "        vertical-align: top;\n",
       "    }\n",
       "\n",
       "    .dataframe thead th {\n",
       "        text-align: right;\n",
       "    }\n",
       "</style>\n",
       "<table border=\"1\" class=\"dataframe\">\n",
       "  <thead>\n",
       "    <tr style=\"text-align: right;\">\n",
       "      <th></th>\n",
       "      <th>AQI</th>\n",
       "    </tr>\n",
       "  </thead>\n",
       "  <tbody>\n",
       "    <tr>\n",
       "      <th>69004</th>\n",
       "      <td>22</td>\n",
       "    </tr>\n",
       "    <tr>\n",
       "      <th>69005</th>\n",
       "      <td>76</td>\n",
       "    </tr>\n",
       "    <tr>\n",
       "      <th>69006</th>\n",
       "      <td>18</td>\n",
       "    </tr>\n",
       "    <tr>\n",
       "      <th>69007</th>\n",
       "      <td>20</td>\n",
       "    </tr>\n",
       "    <tr>\n",
       "      <th>69008</th>\n",
       "      <td>15</td>\n",
       "    </tr>\n",
       "  </tbody>\n",
       "</table>\n",
       "</div>"
      ],
      "text/plain": [
       "       AQI\n",
       "69004   22\n",
       "69005   76\n",
       "69006   18\n",
       "69007   20\n",
       "69008   15"
      ]
     },
     "execution_count": 37,
     "metadata": {},
     "output_type": "execute_result"
    }
   ],
   "source": [
    "dataset = pd.read_csv('daily_aqi_by_county_2002.csv')\n",
    "dataset.to_csv('pollution.csv')\n",
    "df = pd.read_csv('pollution.csv', header=0, index_col=0)\n",
    "df.head()\n",
    "dataset_columns = df.columns.tolist()\n",
    "df_state_aqi=df.drop(['county Name',\n",
    " 'State Code',\n",
    " 'County Code',\n",
    " 'Date',\n",
    " 'Category',\n",
    " 'Defining Parameter',\n",
    " 'Defining Site',\n",
    " 'Number of Sites Reporting'], axis=1)\n",
    "il_aqi_2002= df_state_aqi.loc[df_state_aqi['State Name']=='Illinois'].drop(columns=['State Name'])\n",
    "il_aqi_2002.head()"
   ]
  },
  {
   "cell_type": "markdown",
   "id": "2dbccfb7",
   "metadata": {},
   "source": [
    "# 2003"
   ]
  },
  {
   "cell_type": "code",
   "execution_count": 38,
   "id": "f7fb2a13",
   "metadata": {},
   "outputs": [
    {
     "name": "stderr",
     "output_type": "stream",
     "text": [
      "/var/folders/4k/8phkr15d643gxspy_ftny_880000gn/T/ipykernel_2558/2946676841.py:1: DtypeWarning: Columns (2) have mixed types. Specify dtype option on import or set low_memory=False.\n",
      "  dataset = pd.read_csv('daily_aqi_by_county_2003.csv')\n",
      "/var/folders/4k/8phkr15d643gxspy_ftny_880000gn/T/ipykernel_2558/2946676841.py:3: DtypeWarning: Columns (3) have mixed types. Specify dtype option on import or set low_memory=False.\n",
      "  df = pd.read_csv('pollution.csv', header=0, index_col=0)\n"
     ]
    }
   ],
   "source": [
    "dataset = pd.read_csv('daily_aqi_by_county_2003.csv')\n",
    "dataset.to_csv('pollution.csv')\n",
    "df = pd.read_csv('pollution.csv', header=0, index_col=0)\n",
    "df.head()\n",
    "dataset_columns = df.columns.tolist()\n",
    "df_state_aqi=df.drop(['county Name',\n",
    " 'State Code',\n",
    " 'County Code',\n",
    " 'Date',\n",
    " 'Category',\n",
    " 'Defining Parameter',\n",
    " 'Defining Site',\n",
    " 'Number of Sites Reporting'], axis=1)\n",
    "il_aqi_2003= df_state_aqi.loc[df_state_aqi['State Name']=='Illinois'].drop(columns=['State Name'])"
   ]
  },
  {
   "cell_type": "markdown",
   "id": "e2b76dfa",
   "metadata": {},
   "source": [
    "# 2004"
   ]
  },
  {
   "cell_type": "code",
   "execution_count": 39,
   "id": "497b49d2",
   "metadata": {},
   "outputs": [
    {
     "name": "stderr",
     "output_type": "stream",
     "text": [
      "/var/folders/4k/8phkr15d643gxspy_ftny_880000gn/T/ipykernel_2558/1339137025.py:1: DtypeWarning: Columns (2) have mixed types. Specify dtype option on import or set low_memory=False.\n",
      "  dataset = pd.read_csv('daily_aqi_by_county_2004.csv')\n",
      "/var/folders/4k/8phkr15d643gxspy_ftny_880000gn/T/ipykernel_2558/1339137025.py:3: DtypeWarning: Columns (3) have mixed types. Specify dtype option on import or set low_memory=False.\n",
      "  df = pd.read_csv('pollution.csv', header=0, index_col=0)\n"
     ]
    }
   ],
   "source": [
    "dataset = pd.read_csv('daily_aqi_by_county_2004.csv')\n",
    "dataset.to_csv('pollution.csv')\n",
    "df = pd.read_csv('pollution.csv', header=0, index_col=0)\n",
    "df.head()\n",
    "dataset_columns = df.columns.tolist()\n",
    "df_state_aqi=df.drop(['county Name',\n",
    " 'State Code',\n",
    " 'County Code',\n",
    " 'Date',\n",
    " 'Category',\n",
    " 'Defining Parameter',\n",
    " 'Defining Site',\n",
    " 'Number of Sites Reporting'], axis=1)\n",
    "il_aqi_2004= df_state_aqi.loc[df_state_aqi['State Name']=='Illinois'].drop(columns=['State Name'])"
   ]
  },
  {
   "cell_type": "markdown",
   "id": "a43c023c",
   "metadata": {},
   "source": [
    "# 2005 "
   ]
  },
  {
   "cell_type": "code",
   "execution_count": 40,
   "id": "014c2fe6",
   "metadata": {},
   "outputs": [
    {
     "name": "stderr",
     "output_type": "stream",
     "text": [
      "/var/folders/4k/8phkr15d643gxspy_ftny_880000gn/T/ipykernel_2558/2540373154.py:1: DtypeWarning: Columns (2) have mixed types. Specify dtype option on import or set low_memory=False.\n",
      "  dataset = pd.read_csv('daily_aqi_by_county_2005.csv')\n",
      "/var/folders/4k/8phkr15d643gxspy_ftny_880000gn/T/ipykernel_2558/2540373154.py:3: DtypeWarning: Columns (3) have mixed types. Specify dtype option on import or set low_memory=False.\n",
      "  df = pd.read_csv('pollution.csv', header=0, index_col=0)\n"
     ]
    }
   ],
   "source": [
    "dataset = pd.read_csv('daily_aqi_by_county_2005.csv')\n",
    "dataset.to_csv('pollution.csv')\n",
    "df = pd.read_csv('pollution.csv', header=0, index_col=0)\n",
    "df.head()\n",
    "dataset_columns = df.columns.tolist()\n",
    "df_state_aqi=df.drop(['county Name',\n",
    " 'State Code',\n",
    " 'County Code',\n",
    " 'Date',\n",
    " 'Category',\n",
    " 'Defining Parameter',\n",
    " 'Defining Site',\n",
    " 'Number of Sites Reporting'], axis=1)\n",
    "il_aqi_2005= df_state_aqi.loc[df_state_aqi['State Name']=='Illinois'].drop(columns=['State Name'])"
   ]
  },
  {
   "cell_type": "markdown",
   "id": "9beb64ff",
   "metadata": {},
   "source": [
    "# 2006 "
   ]
  },
  {
   "cell_type": "code",
   "execution_count": 41,
   "id": "65d17e52",
   "metadata": {},
   "outputs": [
    {
     "name": "stderr",
     "output_type": "stream",
     "text": [
      "/var/folders/4k/8phkr15d643gxspy_ftny_880000gn/T/ipykernel_2558/1458408379.py:1: DtypeWarning: Columns (2) have mixed types. Specify dtype option on import or set low_memory=False.\n",
      "  dataset = pd.read_csv('daily_aqi_by_county_2006.csv')\n",
      "/var/folders/4k/8phkr15d643gxspy_ftny_880000gn/T/ipykernel_2558/1458408379.py:3: DtypeWarning: Columns (3) have mixed types. Specify dtype option on import or set low_memory=False.\n",
      "  df = pd.read_csv('pollution.csv', header=0, index_col=0)\n"
     ]
    }
   ],
   "source": [
    "dataset = pd.read_csv('daily_aqi_by_county_2006.csv')\n",
    "dataset.to_csv('pollution.csv')\n",
    "df = pd.read_csv('pollution.csv', header=0, index_col=0)\n",
    "df.head()\n",
    "dataset_columns = df.columns.tolist()\n",
    "df_state_aqi=df.drop(['county Name',\n",
    " 'State Code',\n",
    " 'County Code',\n",
    " 'Date',\n",
    " 'Category',\n",
    " 'Defining Parameter',\n",
    " 'Defining Site',\n",
    " 'Number of Sites Reporting'], axis=1)\n",
    "il_aqi_2006= df_state_aqi.loc[df_state_aqi['State Name']=='Illinois'].drop(columns=['State Name'])"
   ]
  },
  {
   "cell_type": "markdown",
   "id": "b8586603",
   "metadata": {},
   "source": [
    "# 2007 "
   ]
  },
  {
   "cell_type": "code",
   "execution_count": 42,
   "id": "33b99a16",
   "metadata": {},
   "outputs": [
    {
     "data": {
      "text/html": [
       "<div>\n",
       "<style scoped>\n",
       "    .dataframe tbody tr th:only-of-type {\n",
       "        vertical-align: middle;\n",
       "    }\n",
       "\n",
       "    .dataframe tbody tr th {\n",
       "        vertical-align: top;\n",
       "    }\n",
       "\n",
       "    .dataframe thead th {\n",
       "        text-align: right;\n",
       "    }\n",
       "</style>\n",
       "<table border=\"1\" class=\"dataframe\">\n",
       "  <thead>\n",
       "    <tr style=\"text-align: right;\">\n",
       "      <th></th>\n",
       "      <th>AQI</th>\n",
       "    </tr>\n",
       "  </thead>\n",
       "  <tbody>\n",
       "    <tr>\n",
       "      <th>72999</th>\n",
       "      <td>30</td>\n",
       "    </tr>\n",
       "    <tr>\n",
       "      <th>73000</th>\n",
       "      <td>19</td>\n",
       "    </tr>\n",
       "    <tr>\n",
       "      <th>73001</th>\n",
       "      <td>25</td>\n",
       "    </tr>\n",
       "    <tr>\n",
       "      <th>73002</th>\n",
       "      <td>23</td>\n",
       "    </tr>\n",
       "    <tr>\n",
       "      <th>73003</th>\n",
       "      <td>20</td>\n",
       "    </tr>\n",
       "    <tr>\n",
       "      <th>...</th>\n",
       "      <td>...</td>\n",
       "    </tr>\n",
       "    <tr>\n",
       "      <th>81282</th>\n",
       "      <td>54</td>\n",
       "    </tr>\n",
       "    <tr>\n",
       "      <th>81283</th>\n",
       "      <td>20</td>\n",
       "    </tr>\n",
       "    <tr>\n",
       "      <th>81284</th>\n",
       "      <td>63</td>\n",
       "    </tr>\n",
       "    <tr>\n",
       "      <th>81285</th>\n",
       "      <td>14</td>\n",
       "    </tr>\n",
       "    <tr>\n",
       "      <th>81286</th>\n",
       "      <td>19</td>\n",
       "    </tr>\n",
       "  </tbody>\n",
       "</table>\n",
       "<p>8288 rows × 1 columns</p>\n",
       "</div>"
      ],
      "text/plain": [
       "       AQI\n",
       "72999   30\n",
       "73000   19\n",
       "73001   25\n",
       "73002   23\n",
       "73003   20\n",
       "...    ...\n",
       "81282   54\n",
       "81283   20\n",
       "81284   63\n",
       "81285   14\n",
       "81286   19\n",
       "\n",
       "[8288 rows x 1 columns]"
      ]
     },
     "execution_count": 42,
     "metadata": {},
     "output_type": "execute_result"
    }
   ],
   "source": [
    "dataset = pd.read_csv('daily_aqi_by_county_2007.csv')\n",
    "dataset.to_csv('pollution.csv')\n",
    "df = pd.read_csv('pollution.csv', header=0, index_col=0)\n",
    "df.head()\n",
    "dataset_columns = df.columns.tolist()\n",
    "df_state_aqi=df.drop(['county Name',\n",
    " 'State Code',\n",
    " 'County Code',\n",
    " 'Date',\n",
    " 'Category',\n",
    " 'Defining Parameter',\n",
    " 'Defining Site',\n",
    " 'Number of Sites Reporting'], axis=1)\n",
    "il_aqi_2007= df_state_aqi.loc[df_state_aqi['State Name']=='Illinois'].drop(columns=['State Name'])\n",
    "il_aqi_2007"
   ]
  },
  {
   "cell_type": "markdown",
   "id": "225b3799",
   "metadata": {},
   "source": [
    "# 2008"
   ]
  },
  {
   "cell_type": "code",
   "execution_count": 43,
   "id": "d72f8dd1",
   "metadata": {},
   "outputs": [],
   "source": [
    "dataset = pd.read_csv('daily_aqi_by_county_2008.csv')\n",
    "dataset.to_csv('pollution.csv')\n",
    "df = pd.read_csv('pollution.csv', header=0, index_col=0)\n",
    "df.head()\n",
    "dataset_columns = df.columns.tolist()\n",
    "df_state_aqi=df.drop(['county Name',\n",
    " 'State Code',\n",
    " 'County Code',\n",
    " 'Date',\n",
    " 'Category',\n",
    " 'Defining Parameter',\n",
    " 'Defining Site',\n",
    " 'Number of Sites Reporting'], axis=1)\n",
    "il_aqi_2008= df_state_aqi.loc[df_state_aqi['State Name']=='Illinois'].drop(columns=['State Name'])"
   ]
  },
  {
   "cell_type": "markdown",
   "id": "fc3cf648",
   "metadata": {},
   "source": [
    "# 2009"
   ]
  },
  {
   "cell_type": "code",
   "execution_count": 44,
   "id": "5e932cb8",
   "metadata": {},
   "outputs": [],
   "source": [
    "dataset = pd.read_csv('daily_aqi_by_county_2009.csv')\n",
    "dataset.to_csv('pollution.csv')\n",
    "df = pd.read_csv('pollution.csv', header=0, index_col=0)\n",
    "df.head()\n",
    "dataset_columns = df.columns.tolist()\n",
    "df_state_aqi=df.drop(['county Name',\n",
    " 'State Code',\n",
    " 'County Code',\n",
    " 'Date',\n",
    " 'Category',\n",
    " 'Defining Parameter',\n",
    " 'Defining Site',\n",
    " 'Number of Sites Reporting'], axis=1)\n",
    "il_aqi_2009= df_state_aqi.loc[df_state_aqi['State Name']=='Illinois'].drop(columns=['State Name'])"
   ]
  },
  {
   "cell_type": "markdown",
   "id": "2dbac013",
   "metadata": {},
   "source": [
    "# 2010"
   ]
  },
  {
   "cell_type": "code",
   "execution_count": 45,
   "id": "a7fa0e09",
   "metadata": {},
   "outputs": [],
   "source": [
    "dataset = pd.read_csv('daily_aqi_by_county_2010.csv')\n",
    "dataset.to_csv('pollution.csv')\n",
    "df = pd.read_csv('pollution.csv', header=0, index_col=0)\n",
    "df.head()\n",
    "dataset_columns = df.columns.tolist()\n",
    "df_state_aqi=df.drop(['county Name',\n",
    " 'State Code',\n",
    " 'County Code',\n",
    " 'Date',\n",
    " 'Category',\n",
    " 'Defining Parameter',\n",
    " 'Defining Site',\n",
    " 'Number of Sites Reporting'], axis=1)\n",
    "il_aqi_2010= df_state_aqi.loc[df_state_aqi['State Name']=='Illinois'].drop(columns=['State Name'])"
   ]
  },
  {
   "cell_type": "markdown",
   "id": "7d4de0b4",
   "metadata": {},
   "source": [
    "# 2011"
   ]
  },
  {
   "cell_type": "code",
   "execution_count": 46,
   "id": "5ee648c3",
   "metadata": {},
   "outputs": [],
   "source": [
    "dataset = pd.read_csv('daily_aqi_by_county_2011.csv')\n",
    "dataset.to_csv('pollution.csv')\n",
    "df = pd.read_csv('pollution.csv', header=0, index_col=0)\n",
    "df.head()\n",
    "dataset_columns = df.columns.tolist()\n",
    "df_state_aqi=df.drop(['county Name',\n",
    " 'State Code',\n",
    " 'County Code',\n",
    " 'Date',\n",
    " 'Category',\n",
    " 'Defining Parameter',\n",
    " 'Defining Site',\n",
    " 'Number of Sites Reporting'], axis=1)\n",
    "il_aqi_2011= df_state_aqi.loc[df_state_aqi['State Name']=='Illinois'].drop(columns=['State Name'])"
   ]
  },
  {
   "cell_type": "markdown",
   "id": "cbacbcde",
   "metadata": {},
   "source": [
    "# 2012"
   ]
  },
  {
   "cell_type": "code",
   "execution_count": 47,
   "id": "d7be8f77",
   "metadata": {},
   "outputs": [],
   "source": [
    "dataset = pd.read_csv('daily_aqi_by_county_2012.csv')\n",
    "dataset.to_csv('pollution.csv')\n",
    "df = pd.read_csv('pollution.csv', header=0, index_col=0)\n",
    "df.head()\n",
    "dataset_columns = df.columns.tolist()\n",
    "df_state_aqi=df.drop(['county Name',\n",
    " 'State Code',\n",
    " 'County Code',\n",
    " 'Date',\n",
    " 'Category',\n",
    " 'Defining Parameter',\n",
    " 'Defining Site',\n",
    " 'Number of Sites Reporting'], axis=1)\n",
    "il_aqi_2012= df_state_aqi.loc[df_state_aqi['State Name']=='Illinois'].drop(columns=['State Name'])"
   ]
  },
  {
   "cell_type": "markdown",
   "id": "a20c34eb",
   "metadata": {},
   "source": [
    "# 2013"
   ]
  },
  {
   "cell_type": "code",
   "execution_count": 48,
   "id": "2adc4be1",
   "metadata": {},
   "outputs": [],
   "source": [
    "dataset = pd.read_csv('daily_aqi_by_county_2013.csv')\n",
    "dataset.to_csv('pollution.csv')\n",
    "df = pd.read_csv('pollution.csv', header=0, index_col=0)\n",
    "df.head()\n",
    "dataset_columns = df.columns.tolist()\n",
    "df_state_aqi=df.drop(['county Name',\n",
    " 'State Code',\n",
    " 'County Code',\n",
    " 'Date',\n",
    " 'Category',\n",
    " 'Defining Parameter',\n",
    " 'Defining Site',\n",
    " 'Number of Sites Reporting'], axis=1)\n",
    "il_aqi_2013= df_state_aqi.loc[df_state_aqi['State Name']=='Illinois'].drop(columns=['State Name'])"
   ]
  },
  {
   "cell_type": "markdown",
   "id": "96f2e04b",
   "metadata": {},
   "source": [
    "# 2014"
   ]
  },
  {
   "cell_type": "code",
   "execution_count": 49,
   "id": "3781c7ec",
   "metadata": {},
   "outputs": [],
   "source": [
    "dataset = pd.read_csv('daily_aqi_by_county_2014.csv')\n",
    "dataset.to_csv('pollution.csv')\n",
    "df = pd.read_csv('pollution.csv', header=0, index_col=0)\n",
    "df.head()\n",
    "dataset_columns = df.columns.tolist()\n",
    "df_state_aqi=df.drop(['county Name',\n",
    " 'State Code',\n",
    " 'County Code',\n",
    " 'Date',\n",
    " 'Category',\n",
    " 'Defining Parameter',\n",
    " 'Defining Site',\n",
    " 'Number of Sites Reporting'], axis=1)\n",
    "il_aqi_2014= df_state_aqi.loc[df_state_aqi['State Name']=='Illinois'].drop(columns=['State Name'])"
   ]
  },
  {
   "cell_type": "markdown",
   "id": "9b55f543",
   "metadata": {},
   "source": [
    "# 2015"
   ]
  },
  {
   "cell_type": "code",
   "execution_count": 50,
   "id": "34b6373b",
   "metadata": {},
   "outputs": [],
   "source": [
    "dataset = pd.read_csv('daily_aqi_by_county_2015.csv')\n",
    "dataset.to_csv('pollution.csv')\n",
    "df = pd.read_csv('pollution.csv', header=0, index_col=0)\n",
    "df.head()\n",
    "dataset_columns = df.columns.tolist()\n",
    "df_state_aqi=df.drop(['county Name',\n",
    " 'State Code',\n",
    " 'County Code',\n",
    " 'Date',\n",
    " 'Category',\n",
    " 'Defining Parameter',\n",
    " 'Defining Site',\n",
    " 'Number of Sites Reporting'], axis=1)\n",
    "il_aqi_2015= df_state_aqi.loc[df_state_aqi['State Name']=='Illinois'].drop(columns=['State Name'])"
   ]
  },
  {
   "cell_type": "markdown",
   "id": "728a0e82",
   "metadata": {},
   "source": [
    "# 2016"
   ]
  },
  {
   "cell_type": "code",
   "execution_count": 51,
   "id": "03acf08b",
   "metadata": {},
   "outputs": [],
   "source": [
    "dataset = pd.read_csv('daily_aqi_by_county_2016.csv')\n",
    "dataset.to_csv('pollution.csv')\n",
    "df = pd.read_csv('pollution.csv', header=0, index_col=0)\n",
    "df.head()\n",
    "dataset_columns = df.columns.tolist()\n",
    "df_state_aqi=df.drop(['county Name',\n",
    " 'State Code',\n",
    " 'County Code',\n",
    " 'Date',\n",
    " 'Category',\n",
    " 'Defining Parameter',\n",
    " 'Defining Site',\n",
    " 'Number of Sites Reporting'], axis=1)\n",
    "il_aqi_2016= df_state_aqi.loc[df_state_aqi['State Name']=='Illinois'].drop(columns=['State Name'])"
   ]
  },
  {
   "cell_type": "markdown",
   "id": "0b72c6fc",
   "metadata": {},
   "source": [
    "# 2017"
   ]
  },
  {
   "cell_type": "code",
   "execution_count": 52,
   "id": "a133c1c9",
   "metadata": {},
   "outputs": [],
   "source": [
    "dataset = pd.read_csv('daily_aqi_by_county_2017.csv')\n",
    "dataset.to_csv('pollution.csv')\n",
    "df = pd.read_csv('pollution.csv', header=0, index_col=0)\n",
    "df.head()\n",
    "dataset_columns = df.columns.tolist()\n",
    "df_state_aqi=df.drop(['county Name',\n",
    " 'State Code',\n",
    " 'County Code',\n",
    " 'Date',\n",
    " 'Category',\n",
    " 'Defining Parameter',\n",
    " 'Defining Site',\n",
    " 'Number of Sites Reporting'], axis=1)\n",
    "il_aqi_2017= df_state_aqi.loc[df_state_aqi['State Name']=='Illinois'].drop(columns=['State Name'])"
   ]
  },
  {
   "cell_type": "markdown",
   "id": "2735d76b",
   "metadata": {},
   "source": [
    "# 2018"
   ]
  },
  {
   "cell_type": "code",
   "execution_count": 53,
   "id": "9cd34a5a",
   "metadata": {},
   "outputs": [],
   "source": [
    "dataset = pd.read_csv('daily_aqi_by_county_2018.csv')\n",
    "dataset.to_csv('pollution.csv')\n",
    "df = pd.read_csv('pollution.csv', header=0, index_col=0)\n",
    "df.head()\n",
    "dataset_columns = df.columns.tolist()\n",
    "df_state_aqi=df.drop(['county Name',\n",
    " 'State Code',\n",
    " 'County Code',\n",
    " 'Date',\n",
    " 'Category',\n",
    " 'Defining Parameter',\n",
    " 'Defining Site',\n",
    " 'Number of Sites Reporting'], axis=1)\n",
    "il_aqi_2018= df_state_aqi.loc[df_state_aqi['State Name']=='Illinois'].drop(columns=['State Name'])"
   ]
  },
  {
   "cell_type": "markdown",
   "id": "d2aadcc2",
   "metadata": {},
   "source": [
    "# 2019"
   ]
  },
  {
   "cell_type": "code",
   "execution_count": 54,
   "id": "7a7062be",
   "metadata": {},
   "outputs": [],
   "source": [
    "dataset = pd.read_csv('daily_aqi_by_county_2019.csv')\n",
    "dataset.to_csv('pollution.csv')\n",
    "df = pd.read_csv('pollution.csv', header=0, index_col=0)\n",
    "df.head()\n",
    "dataset_columns = df.columns.tolist()\n",
    "df_state_aqi=df.drop(['county Name',\n",
    " 'State Code',\n",
    " 'County Code',\n",
    " 'Date',\n",
    " 'Category',\n",
    " 'Defining Parameter',\n",
    " 'Defining Site',\n",
    " 'Number of Sites Reporting'], axis=1)\n",
    "il_aqi_2019= df_state_aqi.loc[df_state_aqi['State Name']=='Illinois'].drop(columns=['State Name'])"
   ]
  },
  {
   "cell_type": "markdown",
   "id": "024ccfcc",
   "metadata": {},
   "source": [
    "# 2020"
   ]
  },
  {
   "cell_type": "code",
   "execution_count": 55,
   "id": "bd333e84",
   "metadata": {},
   "outputs": [],
   "source": [
    "dataset = pd.read_csv('daily_aqi_by_county_2020.csv')\n",
    "dataset.to_csv('pollution.csv')\n",
    "df = pd.read_csv('pollution.csv', header=0, index_col=0)\n",
    "df.head()\n",
    "dataset_columns = df.columns.tolist()\n",
    "df_state_aqi=df.drop(['county Name',\n",
    " 'State Code',\n",
    " 'County Code',\n",
    " 'Date',\n",
    " 'Category',\n",
    " 'Defining Parameter',\n",
    " 'Defining Site',\n",
    " 'Number of Sites Reporting'], axis=1)\n",
    "il_aqi_2020= df_state_aqi.loc[df_state_aqi['State Name']=='Illinois'].drop(columns=['State Name'])"
   ]
  },
  {
   "cell_type": "markdown",
   "id": "acb9f004",
   "metadata": {},
   "source": [
    "# 2021"
   ]
  },
  {
   "cell_type": "code",
   "execution_count": 56,
   "id": "e7e4c613",
   "metadata": {},
   "outputs": [],
   "source": [
    "dataset = pd.read_csv('daily_aqi_by_county_2021.csv')\n",
    "dataset.to_csv('pollution.csv')\n",
    "df = pd.read_csv('pollution.csv', header=0, index_col=0)\n",
    "df.head()\n",
    "dataset_columns = df.columns.tolist()\n",
    "df_state_aqi=df.drop(['county Name',\n",
    " 'State Code',\n",
    " 'County Code',\n",
    " 'Date',\n",
    " 'Category',\n",
    " 'Defining Parameter',\n",
    " 'Defining Site',\n",
    " 'Number of Sites Reporting'], axis=1)\n",
    "il_aqi_2021= df_state_aqi.loc[df_state_aqi['State Name']=='Illinois'].drop(columns=['State Name'])"
   ]
  },
  {
   "cell_type": "markdown",
   "id": "4a174e47",
   "metadata": {},
   "source": [
    "# 2022"
   ]
  },
  {
   "cell_type": "code",
   "execution_count": 57,
   "id": "bfeaeeff",
   "metadata": {},
   "outputs": [],
   "source": [
    "dataset = pd.read_csv('daily_aqi_by_county_2022 2.csv')\n",
    "dataset.to_csv('pollution.csv')\n",
    "df = pd.read_csv('pollution.csv', header=0, index_col=0)\n",
    "df.head()\n",
    "dataset_columns = df.columns.tolist()\n",
    "df_state_aqi=df.drop(['county Name',\n",
    " 'State Code',\n",
    " 'County Code',\n",
    " 'Date',\n",
    " 'Category',\n",
    " 'Defining Parameter',\n",
    " 'Defining Site',\n",
    " 'Number of Sites Reporting'], axis=1)\n",
    "il_aqi_2022= df_state_aqi.loc[df_state_aqi['State Name']=='Illinois'].drop(columns=['State Name'])"
   ]
  },
  {
   "cell_type": "code",
   "execution_count": 58,
   "id": "eddeab4e",
   "metadata": {},
   "outputs": [
    {
     "name": "stdout",
     "output_type": "stream",
     "text": [
      "<class 'pandas.core.frame.DataFrame'>\n",
      "Int64Index: 6156 entries, 30593 to 36748\n",
      "Data columns (total 1 columns):\n",
      " #   Column  Non-Null Count  Dtype\n",
      "---  ------  --------------  -----\n",
      " 0   AQI     6156 non-null   int64\n",
      "dtypes: int64(1)\n",
      "memory usage: 96.2 KB\n",
      "<class 'pandas.core.frame.DataFrame'>\n",
      "Int64Index: 6370 entries, 32549 to 38918\n",
      "Data columns (total 1 columns):\n",
      " #   Column  Non-Null Count  Dtype\n",
      "---  ------  --------------  -----\n",
      " 0   AQI     6370 non-null   int64\n",
      "dtypes: int64(1)\n",
      "memory usage: 99.5 KB\n"
     ]
    }
   ],
   "source": [
    "il_aqi_1980.info()\n",
    "il_aqi_1981.info()"
   ]
  },
  {
   "cell_type": "code",
   "execution_count": 59,
   "id": "6fd669c1",
   "metadata": {},
   "outputs": [],
   "source": [
    "#combining data from all years for LSTM modeling\n",
    "frame = [il_aqi_1980, il_aqi_1981, il_aqi_1982, il_aqi_1983, il_aqi_1984, il_aqi_1985, il_aqi_1986, il_aqi_1987, il_aqi_1988, il_aqi_1989, il_aqi_1990, il_aqi_1991, il_aqi_1992, il_aqi_1993, il_aqi_1994, il_aqi_1995, il_aqi_1996, il_aqi_1997, il_aqi_1998, il_aqi_1999, il_aqi_2000, il_aqi_2001, il_aqi_2002, il_aqi_2003, il_aqi_2004, il_aqi_2005, il_aqi_2006, il_aqi_2007, il_aqi_2008, il_aqi_2009, il_aqi_2010, il_aqi_2011, il_aqi_2012, il_aqi_2012, il_aqi_2013, il_aqi_2014, il_aqi_2015, il_aqi_2016, il_aqi_2017, il_aqi_2018, il_aqi_2019, il_aqi_2020, il_aqi_2021, il_aqi_2022]"
   ]
  },
  {
   "cell_type": "code",
   "execution_count": 60,
   "id": "e8168f4a",
   "metadata": {},
   "outputs": [],
   "source": [
    "il_aqi_80_22 =pd.concat(frame)"
   ]
  },
  {
   "cell_type": "code",
   "execution_count": 61,
   "id": "049cfcb3",
   "metadata": {},
   "outputs": [
    {
     "name": "stdout",
     "output_type": "stream",
     "text": [
      "<class 'pandas.core.frame.DataFrame'>\n",
      "Int64Index: 327307 entries, 30593 to 50475\n",
      "Data columns (total 1 columns):\n",
      " #   Column  Non-Null Count   Dtype\n",
      "---  ------  --------------   -----\n",
      " 0   AQI     327307 non-null  int64\n",
      "dtypes: int64(1)\n",
      "memory usage: 5.0 MB\n"
     ]
    }
   ],
   "source": [
    "il_aqi_80_22.info()"
   ]
  },
  {
   "cell_type": "code",
   "execution_count": 62,
   "id": "fa62ddb1",
   "metadata": {},
   "outputs": [],
   "source": [
    "il_aqi = il_aqi_80_22.reset_index().drop(columns=['index'])"
   ]
  },
  {
   "cell_type": "code",
   "execution_count": 63,
   "id": "518a7041",
   "metadata": {},
   "outputs": [
    {
     "data": {
      "text/html": [
       "<div>\n",
       "<style scoped>\n",
       "    .dataframe tbody tr th:only-of-type {\n",
       "        vertical-align: middle;\n",
       "    }\n",
       "\n",
       "    .dataframe tbody tr th {\n",
       "        vertical-align: top;\n",
       "    }\n",
       "\n",
       "    .dataframe thead th {\n",
       "        text-align: right;\n",
       "    }\n",
       "</style>\n",
       "<table border=\"1\" class=\"dataframe\">\n",
       "  <thead>\n",
       "    <tr style=\"text-align: right;\">\n",
       "      <th></th>\n",
       "      <th>AQI</th>\n",
       "    </tr>\n",
       "  </thead>\n",
       "  <tbody>\n",
       "    <tr>\n",
       "      <th>0</th>\n",
       "      <td>19</td>\n",
       "    </tr>\n",
       "    <tr>\n",
       "      <th>1</th>\n",
       "      <td>19</td>\n",
       "    </tr>\n",
       "    <tr>\n",
       "      <th>2</th>\n",
       "      <td>13</td>\n",
       "    </tr>\n",
       "    <tr>\n",
       "      <th>3</th>\n",
       "      <td>16</td>\n",
       "    </tr>\n",
       "    <tr>\n",
       "      <th>4</th>\n",
       "      <td>10</td>\n",
       "    </tr>\n",
       "    <tr>\n",
       "      <th>...</th>\n",
       "      <td>...</td>\n",
       "    </tr>\n",
       "    <tr>\n",
       "      <th>327302</th>\n",
       "      <td>24</td>\n",
       "    </tr>\n",
       "    <tr>\n",
       "      <th>327303</th>\n",
       "      <td>21</td>\n",
       "    </tr>\n",
       "    <tr>\n",
       "      <th>327304</th>\n",
       "      <td>27</td>\n",
       "    </tr>\n",
       "    <tr>\n",
       "      <th>327305</th>\n",
       "      <td>30</td>\n",
       "    </tr>\n",
       "    <tr>\n",
       "      <th>327306</th>\n",
       "      <td>41</td>\n",
       "    </tr>\n",
       "  </tbody>\n",
       "</table>\n",
       "<p>327307 rows × 1 columns</p>\n",
       "</div>"
      ],
      "text/plain": [
       "        AQI\n",
       "0        19\n",
       "1        19\n",
       "2        13\n",
       "3        16\n",
       "4        10\n",
       "...     ...\n",
       "327302   24\n",
       "327303   21\n",
       "327304   27\n",
       "327305   30\n",
       "327306   41\n",
       "\n",
       "[327307 rows x 1 columns]"
      ]
     },
     "execution_count": 63,
     "metadata": {},
     "output_type": "execute_result"
    }
   ],
   "source": [
    "il_aqi"
   ]
  },
  {
   "cell_type": "code",
   "execution_count": 64,
   "id": "8b31603e",
   "metadata": {},
   "outputs": [],
   "source": [
    "il_aqi.to_csv('il_aqi.csv')"
   ]
  },
  {
   "cell_type": "markdown",
   "id": "8ccaef57",
   "metadata": {},
   "source": [
    "# Cleaning for Graphing"
   ]
  },
  {
   "cell_type": "markdown",
   "id": "1931846d",
   "metadata": {},
   "source": [
    "# 2019"
   ]
  },
  {
   "cell_type": "code",
   "execution_count": 65,
   "id": "c2a8709f",
   "metadata": {
    "scrolled": true
   },
   "outputs": [],
   "source": [
    "dataset = pd.read_csv('daily_aqi_by_county_2019.csv')\n",
    "dataset.to_csv('pollution.csv')\n",
    "df = pd.read_csv('pollution.csv', header=0, index_col=0)\n",
    "df.head()\n",
    "dataset_columns = df.columns.tolist()\n",
    "df_state_aqi=df.drop(['county Name',\n",
    " 'State Code',\n",
    " 'County Code',\n",
    " 'Category',\n",
    " 'Defining Parameter',\n",
    " 'Defining Site',\n",
    " 'Number of Sites Reporting'], axis=1)\n",
    "il_aqi_date_2019= df_state_aqi.loc[df_state_aqi['State Name']=='Illinois'].drop(columns=['State Name'])\n",
    "il_aqi_date_2019['month'] = pd.to_datetime(df['Date']).dt.month\n",
    "il_aqi_date_2019['year'] = pd.to_datetime(df['Date']).dt.year\n",
    "_2019_avg=il_aqi_date_2019.groupby(['year','month'],as_index=False).mean()"
   ]
  },
  {
   "cell_type": "markdown",
   "id": "6be7452d",
   "metadata": {},
   "source": [
    "# 2020"
   ]
  },
  {
   "cell_type": "code",
   "execution_count": 66,
   "id": "3d73e894",
   "metadata": {},
   "outputs": [],
   "source": [
    "dataset = pd.read_csv('daily_aqi_by_county_2020.csv')\n",
    "dataset.to_csv('pollution.csv')\n",
    "df = pd.read_csv('pollution.csv', header=0, index_col=0)\n",
    "df.head()\n",
    "dataset_columns = df.columns.tolist()\n",
    "df_state_aqi=df.drop(['county Name',\n",
    " 'State Code',\n",
    " 'County Code',\n",
    " 'Category',\n",
    " 'Defining Parameter',\n",
    " 'Defining Site',\n",
    " 'Number of Sites Reporting'], axis=1)\n",
    "il_aqi_date_2020= df_state_aqi.loc[df_state_aqi['State Name']=='Illinois'].drop(columns=['State Name'])\n",
    "il_aqi_date_2020['month'] = pd.to_datetime(df['Date']).dt.month\n",
    "il_aqi_date_2020['year'] = pd.to_datetime(df['Date']).dt.year\n",
    "_2020_avg=il_aqi_date_2020.groupby(['year','month'],as_index=False).mean()\n"
   ]
  },
  {
   "cell_type": "markdown",
   "id": "45e9e8c3",
   "metadata": {},
   "source": [
    "# 2021"
   ]
  },
  {
   "cell_type": "code",
   "execution_count": 67,
   "id": "fa488399",
   "metadata": {},
   "outputs": [
    {
     "data": {
      "text/html": [
       "<div>\n",
       "<style scoped>\n",
       "    .dataframe tbody tr th:only-of-type {\n",
       "        vertical-align: middle;\n",
       "    }\n",
       "\n",
       "    .dataframe tbody tr th {\n",
       "        vertical-align: top;\n",
       "    }\n",
       "\n",
       "    .dataframe thead th {\n",
       "        text-align: right;\n",
       "    }\n",
       "</style>\n",
       "<table border=\"1\" class=\"dataframe\">\n",
       "  <thead>\n",
       "    <tr style=\"text-align: right;\">\n",
       "      <th></th>\n",
       "      <th>year</th>\n",
       "      <th>month</th>\n",
       "      <th>AQI</th>\n",
       "    </tr>\n",
       "  </thead>\n",
       "  <tbody>\n",
       "    <tr>\n",
       "      <th>0</th>\n",
       "      <td>2021</td>\n",
       "      <td>1</td>\n",
       "      <td>37.586847</td>\n",
       "    </tr>\n",
       "    <tr>\n",
       "      <th>1</th>\n",
       "      <td>2021</td>\n",
       "      <td>2</td>\n",
       "      <td>40.427495</td>\n",
       "    </tr>\n",
       "    <tr>\n",
       "      <th>2</th>\n",
       "      <td>2021</td>\n",
       "      <td>3</td>\n",
       "      <td>41.617111</td>\n",
       "    </tr>\n",
       "    <tr>\n",
       "      <th>3</th>\n",
       "      <td>2021</td>\n",
       "      <td>4</td>\n",
       "      <td>42.750729</td>\n",
       "    </tr>\n",
       "    <tr>\n",
       "      <th>4</th>\n",
       "      <td>2021</td>\n",
       "      <td>5</td>\n",
       "      <td>43.222065</td>\n",
       "    </tr>\n",
       "    <tr>\n",
       "      <th>5</th>\n",
       "      <td>2021</td>\n",
       "      <td>6</td>\n",
       "      <td>53.884164</td>\n",
       "    </tr>\n",
       "    <tr>\n",
       "      <th>6</th>\n",
       "      <td>2021</td>\n",
       "      <td>7</td>\n",
       "      <td>50.549790</td>\n",
       "    </tr>\n",
       "    <tr>\n",
       "      <th>7</th>\n",
       "      <td>2021</td>\n",
       "      <td>8</td>\n",
       "      <td>48.732295</td>\n",
       "    </tr>\n",
       "    <tr>\n",
       "      <th>8</th>\n",
       "      <td>2021</td>\n",
       "      <td>9</td>\n",
       "      <td>43.965167</td>\n",
       "    </tr>\n",
       "    <tr>\n",
       "      <th>9</th>\n",
       "      <td>2021</td>\n",
       "      <td>10</td>\n",
       "      <td>34.418539</td>\n",
       "    </tr>\n",
       "    <tr>\n",
       "      <th>10</th>\n",
       "      <td>2021</td>\n",
       "      <td>11</td>\n",
       "      <td>35.059754</td>\n",
       "    </tr>\n",
       "    <tr>\n",
       "      <th>11</th>\n",
       "      <td>2021</td>\n",
       "      <td>12</td>\n",
       "      <td>38.293919</td>\n",
       "    </tr>\n",
       "  </tbody>\n",
       "</table>\n",
       "</div>"
      ],
      "text/plain": [
       "    year  month        AQI\n",
       "0   2021      1  37.586847\n",
       "1   2021      2  40.427495\n",
       "2   2021      3  41.617111\n",
       "3   2021      4  42.750729\n",
       "4   2021      5  43.222065\n",
       "5   2021      6  53.884164\n",
       "6   2021      7  50.549790\n",
       "7   2021      8  48.732295\n",
       "8   2021      9  43.965167\n",
       "9   2021     10  34.418539\n",
       "10  2021     11  35.059754\n",
       "11  2021     12  38.293919"
      ]
     },
     "execution_count": 67,
     "metadata": {},
     "output_type": "execute_result"
    }
   ],
   "source": [
    "dataset = pd.read_csv('daily_aqi_by_county_2021.csv')\n",
    "dataset.to_csv('pollution.csv')\n",
    "df = pd.read_csv('pollution.csv', header=0, index_col=0)\n",
    "df.head()\n",
    "dataset_columns = df.columns.tolist()\n",
    "df_state_aqi=df.drop(['county Name',\n",
    " 'State Code',\n",
    " 'County Code',\n",
    " 'Category',\n",
    " 'Defining Parameter',\n",
    " 'Defining Site',\n",
    " 'Number of Sites Reporting'], axis=1)\n",
    "il_aqi_date_2021= df_state_aqi.loc[df_state_aqi['State Name']=='Illinois'].drop(columns=['State Name'])\n",
    "il_aqi_date_2021['month'] = pd.to_datetime(df['Date']).dt.month\n",
    "il_aqi_date_2021['year'] = pd.to_datetime(df['Date']).dt.year\n",
    "_2021_avg=il_aqi_date_2021.groupby(['year','month'],as_index=False).mean()\n",
    "_2021_avg\n"
   ]
  },
  {
   "cell_type": "markdown",
   "id": "c1fefabd",
   "metadata": {},
   "source": [
    "# 2022"
   ]
  },
  {
   "cell_type": "code",
   "execution_count": 68,
   "id": "fa3a4a3e",
   "metadata": {},
   "outputs": [
    {
     "data": {
      "text/html": [
       "<div>\n",
       "<style scoped>\n",
       "    .dataframe tbody tr th:only-of-type {\n",
       "        vertical-align: middle;\n",
       "    }\n",
       "\n",
       "    .dataframe tbody tr th {\n",
       "        vertical-align: top;\n",
       "    }\n",
       "\n",
       "    .dataframe thead th {\n",
       "        text-align: right;\n",
       "    }\n",
       "</style>\n",
       "<table border=\"1\" class=\"dataframe\">\n",
       "  <thead>\n",
       "    <tr style=\"text-align: right;\">\n",
       "      <th></th>\n",
       "      <th>year</th>\n",
       "      <th>month</th>\n",
       "      <th>AQI</th>\n",
       "    </tr>\n",
       "  </thead>\n",
       "  <tbody>\n",
       "    <tr>\n",
       "      <th>0</th>\n",
       "      <td>2022</td>\n",
       "      <td>1</td>\n",
       "      <td>36.740103</td>\n",
       "    </tr>\n",
       "    <tr>\n",
       "      <th>1</th>\n",
       "      <td>2022</td>\n",
       "      <td>2</td>\n",
       "      <td>36.498106</td>\n",
       "    </tr>\n",
       "    <tr>\n",
       "      <th>2</th>\n",
       "      <td>2022</td>\n",
       "      <td>3</td>\n",
       "      <td>40.356028</td>\n",
       "    </tr>\n",
       "    <tr>\n",
       "      <th>3</th>\n",
       "      <td>2022</td>\n",
       "      <td>4</td>\n",
       "      <td>39.158892</td>\n",
       "    </tr>\n",
       "    <tr>\n",
       "      <th>4</th>\n",
       "      <td>2022</td>\n",
       "      <td>5</td>\n",
       "      <td>45.362857</td>\n",
       "    </tr>\n",
       "    <tr>\n",
       "      <th>5</th>\n",
       "      <td>2022</td>\n",
       "      <td>6</td>\n",
       "      <td>61.201780</td>\n",
       "    </tr>\n",
       "    <tr>\n",
       "      <th>6</th>\n",
       "      <td>2022</td>\n",
       "      <td>7</td>\n",
       "      <td>45.626761</td>\n",
       "    </tr>\n",
       "    <tr>\n",
       "      <th>7</th>\n",
       "      <td>2022</td>\n",
       "      <td>8</td>\n",
       "      <td>39.703264</td>\n",
       "    </tr>\n",
       "    <tr>\n",
       "      <th>8</th>\n",
       "      <td>2022</td>\n",
       "      <td>9</td>\n",
       "      <td>37.909380</td>\n",
       "    </tr>\n",
       "    <tr>\n",
       "      <th>9</th>\n",
       "      <td>2022</td>\n",
       "      <td>10</td>\n",
       "      <td>3.000000</td>\n",
       "    </tr>\n",
       "  </tbody>\n",
       "</table>\n",
       "</div>"
      ],
      "text/plain": [
       "   year  month        AQI\n",
       "0  2022      1  36.740103\n",
       "1  2022      2  36.498106\n",
       "2  2022      3  40.356028\n",
       "3  2022      4  39.158892\n",
       "4  2022      5  45.362857\n",
       "5  2022      6  61.201780\n",
       "6  2022      7  45.626761\n",
       "7  2022      8  39.703264\n",
       "8  2022      9  37.909380\n",
       "9  2022     10   3.000000"
      ]
     },
     "execution_count": 68,
     "metadata": {},
     "output_type": "execute_result"
    }
   ],
   "source": [
    "dataset = pd.read_csv('daily_aqi_by_county_2022 2.csv')\n",
    "dataset.to_csv('pollution.csv')\n",
    "df = pd.read_csv('pollution.csv', header=0, index_col=0)\n",
    "df.head()\n",
    "dataset_columns = df.columns.tolist()\n",
    "df_state_aqi=df.drop(['county Name',\n",
    " 'State Code',\n",
    " 'County Code',\n",
    " 'Category',\n",
    " 'Defining Parameter',\n",
    " 'Defining Site',\n",
    " 'Number of Sites Reporting'], axis=1)\n",
    "il_aqi_date_2022= df_state_aqi.loc[df_state_aqi['State Name']=='Illinois'].drop(columns=['State Name'])\n",
    "il_aqi_date_2022['month'] = pd.to_datetime(df['Date']).dt.month\n",
    "il_aqi_date_2022['year'] = pd.to_datetime(df['Date']).dt.year\n",
    "_2022_avg=il_aqi_date_2022.groupby(['year','month'],as_index=False).mean()\n",
    "_2022_avg"
   ]
  },
  {
   "cell_type": "code",
   "execution_count": 69,
   "id": "fd701dcf",
   "metadata": {},
   "outputs": [],
   "source": [
    "import seaborn as sns"
   ]
  },
  {
   "cell_type": "code",
   "execution_count": 70,
   "id": "a61a0a18",
   "metadata": {},
   "outputs": [],
   "source": [
    "il_aqi_date_2019['month'] = pd.to_datetime(df['Date']).dt.month\n",
    "il_aqi_date_2019['year'] = pd.to_datetime(df['Date']).dt.year\n",
    "_2019_avg=il_aqi_date_2019.groupby(['year','month'],as_index=False).mean()"
   ]
  },
  {
   "cell_type": "code",
   "execution_count": 71,
   "id": "e4394ea8",
   "metadata": {
    "scrolled": true
   },
   "outputs": [],
   "source": [
    "y = _2022_avg"
   ]
  },
  {
   "cell_type": "code",
   "execution_count": 72,
   "id": "93679c16",
   "metadata": {},
   "outputs": [
    {
     "data": {
      "text/plain": [
       "<AxesSubplot:xlabel='month', ylabel='AQI'>"
      ]
     },
     "execution_count": 72,
     "metadata": {},
     "output_type": "execute_result"
    },
    {
     "data": {
      "image/png": "[encoded data removed]",
      "text/plain": [
       "<Figure size 640x480 with 1 Axes>"
      ]
     },
     "metadata": {},
     "output_type": "display_data"
    }
   ],
   "source": [
    "import seaborn as sns\n",
    "sns.set_theme(style=\"darkgrid\")\n",
    "\n",
    "# Plot the responses for different events and regions\n",
    "sns.lineplot(x=\"month\", y=\"AQI\",\n",
    "             data=_2019_avg)\n"
   ]
  },
  {
   "cell_type": "code",
   "execution_count": 73,
   "id": "4efe1dd1",
   "metadata": {
    "scrolled": true
   },
   "outputs": [
    {
     "data": {
      "text/plain": [
       "<AxesSubplot:xlabel='month', ylabel='AQI'>"
      ]
     },
     "execution_count": 73,
     "metadata": {},
     "output_type": "execute_result"
    },
    {
     "data": {
      "image/png": "[encoded data removed]",
      "text/plain": [
       "<Figure size 640x480 with 1 Axes>"
      ]
     },
     "metadata": {},
     "output_type": "display_data"
    }
   ],
   "source": [
    "b\n",
    "\n"
   ]
  },
  {
   "cell_type": "markdown",
   "id": "3adfcda4",
   "metadata": {},
   "source": [
    "# 2000"
   ]
  },
  {
   "cell_type": "code",
   "execution_count": 88,
   "id": "6940629e",
   "metadata": {},
   "outputs": [
    {
     "name": "stderr",
     "output_type": "stream",
     "text": [
      "/var/folders/4k/8phkr15d643gxspy_ftny_880000gn/T/ipykernel_2558/2364850028.py:1: DtypeWarning: Columns (2) have mixed types. Specify dtype option on import or set low_memory=False.\n",
      "  dataset = pd.read_csv('daily_aqi_by_county_2000.csv')\n",
      "/var/folders/4k/8phkr15d643gxspy_ftny_880000gn/T/ipykernel_2558/2364850028.py:3: DtypeWarning: Columns (3) have mixed types. Specify dtype option on import or set low_memory=False.\n",
      "  df = pd.read_csv('pollution.csv', header=0, index_col=0)\n"
     ]
    },
    {
     "data": {
      "text/html": [
       "<div>\n",
       "<style scoped>\n",
       "    .dataframe tbody tr th:only-of-type {\n",
       "        vertical-align: middle;\n",
       "    }\n",
       "\n",
       "    .dataframe tbody tr th {\n",
       "        vertical-align: top;\n",
       "    }\n",
       "\n",
       "    .dataframe thead th {\n",
       "        text-align: right;\n",
       "    }\n",
       "</style>\n",
       "<table border=\"1\" class=\"dataframe\">\n",
       "  <thead>\n",
       "    <tr style=\"text-align: right;\">\n",
       "      <th></th>\n",
       "      <th>year</th>\n",
       "      <th>month</th>\n",
       "      <th>AQI</th>\n",
       "    </tr>\n",
       "  </thead>\n",
       "  <tbody>\n",
       "    <tr>\n",
       "      <th>0</th>\n",
       "      <td>2000</td>\n",
       "      <td>1</td>\n",
       "      <td>33.836120</td>\n",
       "    </tr>\n",
       "    <tr>\n",
       "      <th>1</th>\n",
       "      <td>2000</td>\n",
       "      <td>2</td>\n",
       "      <td>39.152603</td>\n",
       "    </tr>\n",
       "    <tr>\n",
       "      <th>2</th>\n",
       "      <td>2000</td>\n",
       "      <td>3</td>\n",
       "      <td>39.757764</td>\n",
       "    </tr>\n",
       "    <tr>\n",
       "      <th>3</th>\n",
       "      <td>2000</td>\n",
       "      <td>4</td>\n",
       "      <td>45.286145</td>\n",
       "    </tr>\n",
       "    <tr>\n",
       "      <th>4</th>\n",
       "      <td>2000</td>\n",
       "      <td>5</td>\n",
       "      <td>51.428986</td>\n",
       "    </tr>\n",
       "    <tr>\n",
       "      <th>5</th>\n",
       "      <td>2000</td>\n",
       "      <td>6</td>\n",
       "      <td>50.663623</td>\n",
       "    </tr>\n",
       "    <tr>\n",
       "      <th>6</th>\n",
       "      <td>2000</td>\n",
       "      <td>7</td>\n",
       "      <td>50.798842</td>\n",
       "    </tr>\n",
       "    <tr>\n",
       "      <th>7</th>\n",
       "      <td>2000</td>\n",
       "      <td>8</td>\n",
       "      <td>56.192140</td>\n",
       "    </tr>\n",
       "    <tr>\n",
       "      <th>8</th>\n",
       "      <td>2000</td>\n",
       "      <td>9</td>\n",
       "      <td>44.253012</td>\n",
       "    </tr>\n",
       "    <tr>\n",
       "      <th>9</th>\n",
       "      <td>2000</td>\n",
       "      <td>10</td>\n",
       "      <td>42.862717</td>\n",
       "    </tr>\n",
       "    <tr>\n",
       "      <th>10</th>\n",
       "      <td>2000</td>\n",
       "      <td>11</td>\n",
       "      <td>29.541522</td>\n",
       "    </tr>\n",
       "    <tr>\n",
       "      <th>11</th>\n",
       "      <td>2000</td>\n",
       "      <td>12</td>\n",
       "      <td>31.454389</td>\n",
       "    </tr>\n",
       "  </tbody>\n",
       "</table>\n",
       "</div>"
      ],
      "text/plain": [
       "    year  month        AQI\n",
       "0   2000      1  33.836120\n",
       "1   2000      2  39.152603\n",
       "2   2000      3  39.757764\n",
       "3   2000      4  45.286145\n",
       "4   2000      5  51.428986\n",
       "5   2000      6  50.663623\n",
       "6   2000      7  50.798842\n",
       "7   2000      8  56.192140\n",
       "8   2000      9  44.253012\n",
       "9   2000     10  42.862717\n",
       "10  2000     11  29.541522\n",
       "11  2000     12  31.454389"
      ]
     },
     "execution_count": 88,
     "metadata": {},
     "output_type": "execute_result"
    }
   ],
   "source": [
    "dataset = pd.read_csv('daily_aqi_by_county_2000.csv')\n",
    "dataset.to_csv('pollution.csv')\n",
    "df = pd.read_csv('pollution.csv', header=0, index_col=0)\n",
    "df.head()\n",
    "dataset_columns = df.columns.tolist()\n",
    "df_state_aqi=df.drop(['county Name',\n",
    " 'State Code',\n",
    " 'County Code',\n",
    " 'Category',\n",
    " 'Defining Parameter',\n",
    " 'Defining Site',\n",
    " 'Number of Sites Reporting'], axis=1)\n",
    "il_aqi_date_2000= df_state_aqi.loc[df_state_aqi['State Name']=='Illinois'].drop(columns=['State Name'])\n",
    "il_aqi_date_2000['month'] = pd.to_datetime(df['Date']).dt.month\n",
    "il_aqi_date_2000['year'] = pd.to_datetime(df['Date']).dt.year\n",
    "avg_2000=il_aqi_date_2000.groupby(['year','month'],as_index=False).mean()\n",
    "avg_2000"
   ]
  },
  {
   "cell_type": "markdown",
   "id": "cbe288b0",
   "metadata": {},
   "source": [
    "# 2010"
   ]
  },
  {
   "cell_type": "code",
   "execution_count": 89,
   "id": "52bfa212",
   "metadata": {},
   "outputs": [
    {
     "data": {
      "text/html": [
       "<div>\n",
       "<style scoped>\n",
       "    .dataframe tbody tr th:only-of-type {\n",
       "        vertical-align: middle;\n",
       "    }\n",
       "\n",
       "    .dataframe tbody tr th {\n",
       "        vertical-align: top;\n",
       "    }\n",
       "\n",
       "    .dataframe thead th {\n",
       "        text-align: right;\n",
       "    }\n",
       "</style>\n",
       "<table border=\"1\" class=\"dataframe\">\n",
       "  <thead>\n",
       "    <tr style=\"text-align: right;\">\n",
       "      <th></th>\n",
       "      <th>year</th>\n",
       "      <th>month</th>\n",
       "      <th>AQI</th>\n",
       "    </tr>\n",
       "  </thead>\n",
       "  <tbody>\n",
       "    <tr>\n",
       "      <th>0</th>\n",
       "      <td>2010</td>\n",
       "      <td>1</td>\n",
       "      <td>37.311811</td>\n",
       "    </tr>\n",
       "    <tr>\n",
       "      <th>1</th>\n",
       "      <td>2010</td>\n",
       "      <td>2</td>\n",
       "      <td>46.262697</td>\n",
       "    </tr>\n",
       "    <tr>\n",
       "      <th>2</th>\n",
       "      <td>2010</td>\n",
       "      <td>3</td>\n",
       "      <td>43.054173</td>\n",
       "    </tr>\n",
       "    <tr>\n",
       "      <th>3</th>\n",
       "      <td>2010</td>\n",
       "      <td>4</td>\n",
       "      <td>50.169890</td>\n",
       "    </tr>\n",
       "    <tr>\n",
       "      <th>4</th>\n",
       "      <td>2010</td>\n",
       "      <td>5</td>\n",
       "      <td>48.722746</td>\n",
       "    </tr>\n",
       "    <tr>\n",
       "      <th>5</th>\n",
       "      <td>2010</td>\n",
       "      <td>6</td>\n",
       "      <td>44.599717</td>\n",
       "    </tr>\n",
       "    <tr>\n",
       "      <th>6</th>\n",
       "      <td>2010</td>\n",
       "      <td>7</td>\n",
       "      <td>47.636364</td>\n",
       "    </tr>\n",
       "    <tr>\n",
       "      <th>7</th>\n",
       "      <td>2010</td>\n",
       "      <td>8</td>\n",
       "      <td>51.162162</td>\n",
       "    </tr>\n",
       "    <tr>\n",
       "      <th>8</th>\n",
       "      <td>2010</td>\n",
       "      <td>9</td>\n",
       "      <td>39.739069</td>\n",
       "    </tr>\n",
       "    <tr>\n",
       "      <th>9</th>\n",
       "      <td>2010</td>\n",
       "      <td>10</td>\n",
       "      <td>39.900409</td>\n",
       "    </tr>\n",
       "    <tr>\n",
       "      <th>10</th>\n",
       "      <td>2010</td>\n",
       "      <td>11</td>\n",
       "      <td>34.041186</td>\n",
       "    </tr>\n",
       "    <tr>\n",
       "      <th>11</th>\n",
       "      <td>2010</td>\n",
       "      <td>12</td>\n",
       "      <td>37.094684</td>\n",
       "    </tr>\n",
       "  </tbody>\n",
       "</table>\n",
       "</div>"
      ],
      "text/plain": [
       "    year  month        AQI\n",
       "0   2010      1  37.311811\n",
       "1   2010      2  46.262697\n",
       "2   2010      3  43.054173\n",
       "3   2010      4  50.169890\n",
       "4   2010      5  48.722746\n",
       "5   2010      6  44.599717\n",
       "6   2010      7  47.636364\n",
       "7   2010      8  51.162162\n",
       "8   2010      9  39.739069\n",
       "9   2010     10  39.900409\n",
       "10  2010     11  34.041186\n",
       "11  2010     12  37.094684"
      ]
     },
     "execution_count": 89,
     "metadata": {},
     "output_type": "execute_result"
    }
   ],
   "source": [
    "dataset = pd.read_csv('daily_aqi_by_county_2010.csv')\n",
    "dataset.to_csv('pollution.csv')\n",
    "df = pd.read_csv('pollution.csv', header=0, index_col=0)\n",
    "df.head()\n",
    "dataset_columns = df.columns.tolist()\n",
    "df_state_aqi=df.drop(['county Name',\n",
    " 'State Code',\n",
    " 'County Code',\n",
    " 'Category',\n",
    " 'Defining Parameter',\n",
    " 'Defining Site',\n",
    " 'Number of Sites Reporting'], axis=1)\n",
    "il_aqi_date_2010= df_state_aqi.loc[df_state_aqi['State Name']=='Illinois'].drop(columns=['State Name'])\n",
    "il_aqi_date_2010['month'] = pd.to_datetime(df['Date']).dt.month\n",
    "il_aqi_date_2010['year'] = pd.to_datetime(df['Date']).dt.year\n",
    "avg_2010=il_aqi_date_2010.groupby(['year','month'],as_index=False).mean()\n",
    "avg_2010"
   ]
  },
  {
   "cell_type": "markdown",
   "id": "f708e1d2",
   "metadata": {},
   "source": [
    "# 2020"
   ]
  },
  {
   "cell_type": "code",
   "execution_count": 90,
   "id": "6423f2e9",
   "metadata": {},
   "outputs": [
    {
     "data": {
      "text/html": [
       "<div>\n",
       "<style scoped>\n",
       "    .dataframe tbody tr th:only-of-type {\n",
       "        vertical-align: middle;\n",
       "    }\n",
       "\n",
       "    .dataframe tbody tr th {\n",
       "        vertical-align: top;\n",
       "    }\n",
       "\n",
       "    .dataframe thead th {\n",
       "        text-align: right;\n",
       "    }\n",
       "</style>\n",
       "<table border=\"1\" class=\"dataframe\">\n",
       "  <thead>\n",
       "    <tr style=\"text-align: right;\">\n",
       "      <th></th>\n",
       "      <th>year</th>\n",
       "      <th>month</th>\n",
       "      <th>AQI</th>\n",
       "    </tr>\n",
       "  </thead>\n",
       "  <tbody>\n",
       "    <tr>\n",
       "      <th>0</th>\n",
       "      <td>2020</td>\n",
       "      <td>1</td>\n",
       "      <td>35.571672</td>\n",
       "    </tr>\n",
       "    <tr>\n",
       "      <th>1</th>\n",
       "      <td>2020</td>\n",
       "      <td>2</td>\n",
       "      <td>33.565530</td>\n",
       "    </tr>\n",
       "    <tr>\n",
       "      <th>2</th>\n",
       "      <td>2020</td>\n",
       "      <td>3</td>\n",
       "      <td>38.944928</td>\n",
       "    </tr>\n",
       "    <tr>\n",
       "      <th>3</th>\n",
       "      <td>2020</td>\n",
       "      <td>4</td>\n",
       "      <td>42.587402</td>\n",
       "    </tr>\n",
       "    <tr>\n",
       "      <th>4</th>\n",
       "      <td>2020</td>\n",
       "      <td>5</td>\n",
       "      <td>40.274074</td>\n",
       "    </tr>\n",
       "    <tr>\n",
       "      <th>5</th>\n",
       "      <td>2020</td>\n",
       "      <td>6</td>\n",
       "      <td>57.339156</td>\n",
       "    </tr>\n",
       "    <tr>\n",
       "      <th>6</th>\n",
       "      <td>2020</td>\n",
       "      <td>7</td>\n",
       "      <td>49.319242</td>\n",
       "    </tr>\n",
       "    <tr>\n",
       "      <th>7</th>\n",
       "      <td>2020</td>\n",
       "      <td>8</td>\n",
       "      <td>42.554455</td>\n",
       "    </tr>\n",
       "    <tr>\n",
       "      <th>8</th>\n",
       "      <td>2020</td>\n",
       "      <td>9</td>\n",
       "      <td>37.156204</td>\n",
       "    </tr>\n",
       "    <tr>\n",
       "      <th>9</th>\n",
       "      <td>2020</td>\n",
       "      <td>10</td>\n",
       "      <td>34.349719</td>\n",
       "    </tr>\n",
       "    <tr>\n",
       "      <th>10</th>\n",
       "      <td>2020</td>\n",
       "      <td>11</td>\n",
       "      <td>33.888112</td>\n",
       "    </tr>\n",
       "    <tr>\n",
       "      <th>11</th>\n",
       "      <td>2020</td>\n",
       "      <td>12</td>\n",
       "      <td>40.184874</td>\n",
       "    </tr>\n",
       "  </tbody>\n",
       "</table>\n",
       "</div>"
      ],
      "text/plain": [
       "    year  month        AQI\n",
       "0   2020      1  35.571672\n",
       "1   2020      2  33.565530\n",
       "2   2020      3  38.944928\n",
       "3   2020      4  42.587402\n",
       "4   2020      5  40.274074\n",
       "5   2020      6  57.339156\n",
       "6   2020      7  49.319242\n",
       "7   2020      8  42.554455\n",
       "8   2020      9  37.156204\n",
       "9   2020     10  34.349719\n",
       "10  2020     11  33.888112\n",
       "11  2020     12  40.184874"
      ]
     },
     "execution_count": 90,
     "metadata": {},
     "output_type": "execute_result"
    }
   ],
   "source": [
    "dataset = pd.read_csv('daily_aqi_by_county_2020.csv')\n",
    "dataset.to_csv('pollution.csv')\n",
    "df = pd.read_csv('pollution.csv', header=0, index_col=0)\n",
    "df.head()\n",
    "dataset_columns = df.columns.tolist()\n",
    "df_state_aqi=df.drop(['county Name',\n",
    " 'State Code',\n",
    " 'County Code',\n",
    " 'Category',\n",
    " 'Defining Parameter',\n",
    " 'Defining Site',\n",
    " 'Number of Sites Reporting'], axis=1)\n",
    "il_aqi_date_2020= df_state_aqi.loc[df_state_aqi['State Name']=='Illinois'].drop(columns=['State Name'])\n",
    "il_aqi_date_2020['month'] = pd.to_datetime(df['Date']).dt.month\n",
    "il_aqi_date_2020['year'] = pd.to_datetime(df['Date']).dt.year\n",
    "avg_2020=il_aqi_date_2020.groupby(['year','month'],as_index=False).mean()\n",
    "avg_2020"
   ]
  },
  {
   "cell_type": "markdown",
   "id": "9e166ccd",
   "metadata": {},
   "source": [
    "# 1990"
   ]
  },
  {
   "cell_type": "code",
   "execution_count": 91,
   "id": "80ed31a5",
   "metadata": {},
   "outputs": [
    {
     "data": {
      "text/html": [
       "<div>\n",
       "<style scoped>\n",
       "    .dataframe tbody tr th:only-of-type {\n",
       "        vertical-align: middle;\n",
       "    }\n",
       "\n",
       "    .dataframe tbody tr th {\n",
       "        vertical-align: top;\n",
       "    }\n",
       "\n",
       "    .dataframe thead th {\n",
       "        text-align: right;\n",
       "    }\n",
       "</style>\n",
       "<table border=\"1\" class=\"dataframe\">\n",
       "  <thead>\n",
       "    <tr style=\"text-align: right;\">\n",
       "      <th></th>\n",
       "      <th>year</th>\n",
       "      <th>month</th>\n",
       "      <th>AQI</th>\n",
       "    </tr>\n",
       "  </thead>\n",
       "  <tbody>\n",
       "    <tr>\n",
       "      <th>0</th>\n",
       "      <td>1990</td>\n",
       "      <td>1</td>\n",
       "      <td>26.686594</td>\n",
       "    </tr>\n",
       "    <tr>\n",
       "      <th>1</th>\n",
       "      <td>1990</td>\n",
       "      <td>2</td>\n",
       "      <td>28.576998</td>\n",
       "    </tr>\n",
       "    <tr>\n",
       "      <th>2</th>\n",
       "      <td>1990</td>\n",
       "      <td>3</td>\n",
       "      <td>32.313856</td>\n",
       "    </tr>\n",
       "    <tr>\n",
       "      <th>3</th>\n",
       "      <td>1990</td>\n",
       "      <td>4</td>\n",
       "      <td>38.521739</td>\n",
       "    </tr>\n",
       "    <tr>\n",
       "      <th>4</th>\n",
       "      <td>1990</td>\n",
       "      <td>5</td>\n",
       "      <td>45.694836</td>\n",
       "    </tr>\n",
       "    <tr>\n",
       "      <th>5</th>\n",
       "      <td>1990</td>\n",
       "      <td>6</td>\n",
       "      <td>53.944532</td>\n",
       "    </tr>\n",
       "    <tr>\n",
       "      <th>6</th>\n",
       "      <td>1990</td>\n",
       "      <td>7</td>\n",
       "      <td>57.016794</td>\n",
       "    </tr>\n",
       "    <tr>\n",
       "      <th>7</th>\n",
       "      <td>1990</td>\n",
       "      <td>8</td>\n",
       "      <td>51.447328</td>\n",
       "    </tr>\n",
       "    <tr>\n",
       "      <th>8</th>\n",
       "      <td>1990</td>\n",
       "      <td>9</td>\n",
       "      <td>48.624406</td>\n",
       "    </tr>\n",
       "    <tr>\n",
       "      <th>9</th>\n",
       "      <td>1990</td>\n",
       "      <td>10</td>\n",
       "      <td>34.736593</td>\n",
       "    </tr>\n",
       "    <tr>\n",
       "      <th>10</th>\n",
       "      <td>1990</td>\n",
       "      <td>11</td>\n",
       "      <td>30.125693</td>\n",
       "    </tr>\n",
       "    <tr>\n",
       "      <th>11</th>\n",
       "      <td>1990</td>\n",
       "      <td>12</td>\n",
       "      <td>25.632867</td>\n",
       "    </tr>\n",
       "  </tbody>\n",
       "</table>\n",
       "</div>"
      ],
      "text/plain": [
       "    year  month        AQI\n",
       "0   1990      1  26.686594\n",
       "1   1990      2  28.576998\n",
       "2   1990      3  32.313856\n",
       "3   1990      4  38.521739\n",
       "4   1990      5  45.694836\n",
       "5   1990      6  53.944532\n",
       "6   1990      7  57.016794\n",
       "7   1990      8  51.447328\n",
       "8   1990      9  48.624406\n",
       "9   1990     10  34.736593\n",
       "10  1990     11  30.125693\n",
       "11  1990     12  25.632867"
      ]
     },
     "execution_count": 91,
     "metadata": {},
     "output_type": "execute_result"
    }
   ],
   "source": [
    "dataset = pd.read_csv('daily_aqi_by_county_1990.csv')\n",
    "dataset.to_csv('pollution.csv')\n",
    "df = pd.read_csv('pollution.csv', header=0, index_col=0)\n",
    "df.head()\n",
    "dataset_columns = df.columns.tolist()\n",
    "df_state_aqi=df.drop(['county Name',\n",
    " 'State Code',\n",
    " 'County Code',\n",
    " 'Category',\n",
    " 'Defining Parameter',\n",
    " 'Defining Site',\n",
    " 'Number of Sites Reporting'], axis=1)\n",
    "il_aqi_date_1990= df_state_aqi.loc[df_state_aqi['State Name']=='Illinois'].drop(columns=['State Name'])\n",
    "il_aqi_date_1990['month'] = pd.to_datetime(df['Date']).dt.month\n",
    "il_aqi_date_1990['year'] = pd.to_datetime(df['Date']).dt.year\n",
    "avg_1990=il_aqi_date_1990.groupby(['year','month'],as_index=False).mean()\n",
    "avg_1990"
   ]
  },
  {
   "cell_type": "markdown",
   "id": "ee515923",
   "metadata": {},
   "source": [
    "# 1980 "
   ]
  },
  {
   "cell_type": "code",
   "execution_count": 92,
   "id": "57abc007",
   "metadata": {
    "scrolled": true
   },
   "outputs": [
    {
     "data": {
      "text/html": [
       "<div>\n",
       "<style scoped>\n",
       "    .dataframe tbody tr th:only-of-type {\n",
       "        vertical-align: middle;\n",
       "    }\n",
       "\n",
       "    .dataframe tbody tr th {\n",
       "        vertical-align: top;\n",
       "    }\n",
       "\n",
       "    .dataframe thead th {\n",
       "        text-align: right;\n",
       "    }\n",
       "</style>\n",
       "<table border=\"1\" class=\"dataframe\">\n",
       "  <thead>\n",
       "    <tr style=\"text-align: right;\">\n",
       "      <th></th>\n",
       "      <th>year</th>\n",
       "      <th>month</th>\n",
       "      <th>AQI</th>\n",
       "    </tr>\n",
       "  </thead>\n",
       "  <tbody>\n",
       "    <tr>\n",
       "      <th>0</th>\n",
       "      <td>1980</td>\n",
       "      <td>1</td>\n",
       "      <td>23.401818</td>\n",
       "    </tr>\n",
       "    <tr>\n",
       "      <th>1</th>\n",
       "      <td>1980</td>\n",
       "      <td>2</td>\n",
       "      <td>31.031955</td>\n",
       "    </tr>\n",
       "    <tr>\n",
       "      <th>2</th>\n",
       "      <td>1980</td>\n",
       "      <td>3</td>\n",
       "      <td>33.049904</td>\n",
       "    </tr>\n",
       "    <tr>\n",
       "      <th>3</th>\n",
       "      <td>1980</td>\n",
       "      <td>4</td>\n",
       "      <td>43.020619</td>\n",
       "    </tr>\n",
       "    <tr>\n",
       "      <th>4</th>\n",
       "      <td>1980</td>\n",
       "      <td>5</td>\n",
       "      <td>58.371534</td>\n",
       "    </tr>\n",
       "    <tr>\n",
       "      <th>5</th>\n",
       "      <td>1980</td>\n",
       "      <td>6</td>\n",
       "      <td>66.612476</td>\n",
       "    </tr>\n",
       "    <tr>\n",
       "      <th>6</th>\n",
       "      <td>1980</td>\n",
       "      <td>7</td>\n",
       "      <td>78.741259</td>\n",
       "    </tr>\n",
       "    <tr>\n",
       "      <th>7</th>\n",
       "      <td>1980</td>\n",
       "      <td>8</td>\n",
       "      <td>62.788831</td>\n",
       "    </tr>\n",
       "    <tr>\n",
       "      <th>8</th>\n",
       "      <td>1980</td>\n",
       "      <td>9</td>\n",
       "      <td>43.339552</td>\n",
       "    </tr>\n",
       "    <tr>\n",
       "      <th>9</th>\n",
       "      <td>1980</td>\n",
       "      <td>10</td>\n",
       "      <td>32.402930</td>\n",
       "    </tr>\n",
       "    <tr>\n",
       "      <th>10</th>\n",
       "      <td>1980</td>\n",
       "      <td>11</td>\n",
       "      <td>29.567430</td>\n",
       "    </tr>\n",
       "    <tr>\n",
       "      <th>11</th>\n",
       "      <td>1980</td>\n",
       "      <td>12</td>\n",
       "      <td>25.701058</td>\n",
       "    </tr>\n",
       "  </tbody>\n",
       "</table>\n",
       "</div>"
      ],
      "text/plain": [
       "    year  month        AQI\n",
       "0   1980      1  23.401818\n",
       "1   1980      2  31.031955\n",
       "2   1980      3  33.049904\n",
       "3   1980      4  43.020619\n",
       "4   1980      5  58.371534\n",
       "5   1980      6  66.612476\n",
       "6   1980      7  78.741259\n",
       "7   1980      8  62.788831\n",
       "8   1980      9  43.339552\n",
       "9   1980     10  32.402930\n",
       "10  1980     11  29.567430\n",
       "11  1980     12  25.701058"
      ]
     },
     "execution_count": 92,
     "metadata": {},
     "output_type": "execute_result"
    }
   ],
   "source": [
    "dataset = pd.read_csv('daily_aqi_by_county_1980.csv')\n",
    "dataset.to_csv('pollution.csv')\n",
    "df = pd.read_csv('pollution.csv', header=0, index_col=0)\n",
    "df.head()\n",
    "dataset_columns = df.columns.tolist()\n",
    "df_state_aqi=df.drop(['county Name',\n",
    " 'State Code',\n",
    " 'County Code',\n",
    " 'Category',\n",
    " 'Defining Parameter',\n",
    " 'Defining Site',\n",
    " 'Number of Sites Reporting'], axis=1)\n",
    "il_aqi_date_1980= df_state_aqi.loc[df_state_aqi['State Name']=='Illinois'].drop(columns=['State Name'])\n",
    "il_aqi_date_1980['month'] = pd.to_datetime(df['Date']).dt.month\n",
    "il_aqi_date_1980['year'] = pd.to_datetime(df['Date']).dt.year\n",
    "avg_1980=il_aqi_date_1980.groupby(['year','month'],as_index=False).mean()\n",
    "avg_1980"
   ]
  },
  {
   "cell_type": "code",
   "execution_count": 114,
   "id": "8f76bf0e",
   "metadata": {},
   "outputs": [
    {
     "name": "stdout",
     "output_type": "stream",
     "text": [
      "<class 'pandas.core.frame.DataFrame'>\n",
      "Int64Index: 60 entries, 0 to 11\n",
      "Data columns (total 3 columns):\n",
      " #   Column  Non-Null Count  Dtype  \n",
      "---  ------  --------------  -----  \n",
      " 0   year    60 non-null     int64  \n",
      " 1   month   60 non-null     int64  \n",
      " 2   AQI     60 non-null     float64\n",
      "dtypes: float64(1), int64(2)\n",
      "memory usage: 1.9 KB\n"
     ]
    }
   ],
   "source": [
    "frame2=[avg_1980,avg_1990,avg_2000,avg_2010,avg_2020]\n",
    "decades_avg=pd.concat(frame2)\n",
    "decades_avg.info()\n"
   ]
  },
  {
   "cell_type": "code",
   "execution_count": 115,
   "id": "fffca3ec",
   "metadata": {},
   "outputs": [],
   "source": [
    "decades_avg['AQI'] = pd.to_numeric(decades_avg['AQI'], errors='coerce')"
   ]
  },
  {
   "cell_type": "code",
   "execution_count": 127,
   "id": "b28e7c9a",
   "metadata": {
    "scrolled": true
   },
   "outputs": [
    {
     "data": {
      "image/png": "[encoded data removed]",
      "text/plain": [
       "<Figure size 640x480 with 1 Axes>"
      ]
     },
     "metadata": {},
     "output_type": "display_data"
    }
   ],
   "source": [
    "decades_avg = decades_avg.groupby(['year', 'month'])['AQI'].mean().reset_index()\n",
    "\n",
    "plt=sns.lineplot(x='month', y='AQI', hue='year', palette='colorblind', data=decades_avg)\n",
    "#plt.color_palette()\n"
   ]
  },
  {
   "cell_type": "code",
   "execution_count": 131,
   "id": "309350d8",
   "metadata": {},
   "outputs": [
    {
     "name": "stderr",
     "output_type": "stream",
     "text": [
      "/var/folders/4k/8phkr15d643gxspy_ftny_880000gn/T/ipykernel_2558/621609292.py:8: DtypeWarning: Columns (2) have mixed types. Specify dtype option on import or set low_memory=False.\n",
      "  dataframe = pd.concat([pd.read_csv(f, sep=seperator) for f in glob.glob(folder_name + \"/*.\"+file_type)],ignore_index=True)\n",
      "/var/folders/4k/8phkr15d643gxspy_ftny_880000gn/T/ipykernel_2558/621609292.py:8: DtypeWarning: Columns (2) have mixed types. Specify dtype option on import or set low_memory=False.\n",
      "  dataframe = pd.concat([pd.read_csv(f, sep=seperator) for f in glob.glob(folder_name + \"/*.\"+file_type)],ignore_index=True)\n",
      "/var/folders/4k/8phkr15d643gxspy_ftny_880000gn/T/ipykernel_2558/621609292.py:8: DtypeWarning: Columns (2) have mixed types. Specify dtype option on import or set low_memory=False.\n",
      "  dataframe = pd.concat([pd.read_csv(f, sep=seperator) for f in glob.glob(folder_name + \"/*.\"+file_type)],ignore_index=True)\n",
      "/var/folders/4k/8phkr15d643gxspy_ftny_880000gn/T/ipykernel_2558/621609292.py:8: DtypeWarning: Columns (2) have mixed types. Specify dtype option on import or set low_memory=False.\n",
      "  dataframe = pd.concat([pd.read_csv(f, sep=seperator) for f in glob.glob(folder_name + \"/*.\"+file_type)],ignore_index=True)\n",
      "/var/folders/4k/8phkr15d643gxspy_ftny_880000gn/T/ipykernel_2558/621609292.py:8: DtypeWarning: Columns (2) have mixed types. Specify dtype option on import or set low_memory=False.\n",
      "  dataframe = pd.concat([pd.read_csv(f, sep=seperator) for f in glob.glob(folder_name + \"/*.\"+file_type)],ignore_index=True)\n",
      "/var/folders/4k/8phkr15d643gxspy_ftny_880000gn/T/ipykernel_2558/621609292.py:8: DtypeWarning: Columns (2) have mixed types. Specify dtype option on import or set low_memory=False.\n",
      "  dataframe = pd.concat([pd.read_csv(f, sep=seperator) for f in glob.glob(folder_name + \"/*.\"+file_type)],ignore_index=True)\n",
      "/var/folders/4k/8phkr15d643gxspy_ftny_880000gn/T/ipykernel_2558/621609292.py:8: DtypeWarning: Columns (2) have mixed types. Specify dtype option on import or set low_memory=False.\n",
      "  dataframe = pd.concat([pd.read_csv(f, sep=seperator) for f in glob.glob(folder_name + \"/*.\"+file_type)],ignore_index=True)\n",
      "/var/folders/4k/8phkr15d643gxspy_ftny_880000gn/T/ipykernel_2558/621609292.py:8: DtypeWarning: Columns (2) have mixed types. Specify dtype option on import or set low_memory=False.\n",
      "  dataframe = pd.concat([pd.read_csv(f, sep=seperator) for f in glob.glob(folder_name + \"/*.\"+file_type)],ignore_index=True)\n",
      "/var/folders/4k/8phkr15d643gxspy_ftny_880000gn/T/ipykernel_2558/621609292.py:8: DtypeWarning: Columns (2) have mixed types. Specify dtype option on import or set low_memory=False.\n",
      "  dataframe = pd.concat([pd.read_csv(f, sep=seperator) for f in glob.glob(folder_name + \"/*.\"+file_type)],ignore_index=True)\n",
      "/var/folders/4k/8phkr15d643gxspy_ftny_880000gn/T/ipykernel_2558/621609292.py:8: DtypeWarning: Columns (2) have mixed types. Specify dtype option on import or set low_memory=False.\n",
      "  dataframe = pd.concat([pd.read_csv(f, sep=seperator) for f in glob.glob(folder_name + \"/*.\"+file_type)],ignore_index=True)\n",
      "/var/folders/4k/8phkr15d643gxspy_ftny_880000gn/T/ipykernel_2558/621609292.py:8: DtypeWarning: Columns (2) have mixed types. Specify dtype option on import or set low_memory=False.\n",
      "  dataframe = pd.concat([pd.read_csv(f, sep=seperator) for f in glob.glob(folder_name + \"/*.\"+file_type)],ignore_index=True)\n",
      "/var/folders/4k/8phkr15d643gxspy_ftny_880000gn/T/ipykernel_2558/621609292.py:8: DtypeWarning: Columns (2) have mixed types. Specify dtype option on import or set low_memory=False.\n",
      "  dataframe = pd.concat([pd.read_csv(f, sep=seperator) for f in glob.glob(folder_name + \"/*.\"+file_type)],ignore_index=True)\n"
     ]
    }
   ],
   "source": [
    "import glob\n",
    "import os\n",
    "import pandas as pd\n",
    "\n",
    "folder_name = 'train_dataset'\n",
    "file_type = 'csv'\n",
    "seperator =','\n",
    "dataframe = pd.concat([pd.read_csv(f, sep=seperator) for f in glob.glob(folder_name + \"/*.\"+file_type)],ignore_index=True)"
   ]
  },
  {
   "cell_type": "code",
   "execution_count": 133,
   "id": "131d3b18",
   "metadata": {},
   "outputs": [
    {
     "data": {
      "text/html": [
       "<div>\n",
       "<style scoped>\n",
       "    .dataframe tbody tr th:only-of-type {\n",
       "        vertical-align: middle;\n",
       "    }\n",
       "\n",
       "    .dataframe tbody tr th {\n",
       "        vertical-align: top;\n",
       "    }\n",
       "\n",
       "    .dataframe thead th {\n",
       "        text-align: right;\n",
       "    }\n",
       "</style>\n",
       "<table border=\"1\" class=\"dataframe\">\n",
       "  <thead>\n",
       "    <tr style=\"text-align: right;\">\n",
       "      <th></th>\n",
       "      <th>State Name</th>\n",
       "      <th>county Name</th>\n",
       "      <th>State Code</th>\n",
       "      <th>County Code</th>\n",
       "      <th>Date</th>\n",
       "      <th>AQI</th>\n",
       "      <th>Category</th>\n",
       "      <th>Defining Parameter</th>\n",
       "      <th>Defining Site</th>\n",
       "      <th>Number of Sites Reporting</th>\n",
       "    </tr>\n",
       "  </thead>\n",
       "  <tbody>\n",
       "    <tr>\n",
       "      <th>0</th>\n",
       "      <td>Alabama</td>\n",
       "      <td>Baldwin</td>\n",
       "      <td>1</td>\n",
       "      <td>3</td>\n",
       "      <td>2007-01-03</td>\n",
       "      <td>55</td>\n",
       "      <td>Moderate</td>\n",
       "      <td>PM2.5</td>\n",
       "      <td>01-003-0010</td>\n",
       "      <td>1</td>\n",
       "    </tr>\n",
       "    <tr>\n",
       "      <th>1</th>\n",
       "      <td>Alabama</td>\n",
       "      <td>Baldwin</td>\n",
       "      <td>1</td>\n",
       "      <td>3</td>\n",
       "      <td>2007-01-06</td>\n",
       "      <td>23</td>\n",
       "      <td>Good</td>\n",
       "      <td>PM2.5</td>\n",
       "      <td>01-003-0010</td>\n",
       "      <td>1</td>\n",
       "    </tr>\n",
       "    <tr>\n",
       "      <th>2</th>\n",
       "      <td>Alabama</td>\n",
       "      <td>Baldwin</td>\n",
       "      <td>1</td>\n",
       "      <td>3</td>\n",
       "      <td>2007-01-09</td>\n",
       "      <td>13</td>\n",
       "      <td>Good</td>\n",
       "      <td>PM2.5</td>\n",
       "      <td>01-003-0010</td>\n",
       "      <td>1</td>\n",
       "    </tr>\n",
       "    <tr>\n",
       "      <th>3</th>\n",
       "      <td>Alabama</td>\n",
       "      <td>Baldwin</td>\n",
       "      <td>1</td>\n",
       "      <td>3</td>\n",
       "      <td>2007-01-12</td>\n",
       "      <td>25</td>\n",
       "      <td>Good</td>\n",
       "      <td>PM2.5</td>\n",
       "      <td>01-003-0010</td>\n",
       "      <td>1</td>\n",
       "    </tr>\n",
       "    <tr>\n",
       "      <th>4</th>\n",
       "      <td>Alabama</td>\n",
       "      <td>Baldwin</td>\n",
       "      <td>1</td>\n",
       "      <td>3</td>\n",
       "      <td>2007-01-15</td>\n",
       "      <td>17</td>\n",
       "      <td>Good</td>\n",
       "      <td>PM2.5</td>\n",
       "      <td>01-003-0010</td>\n",
       "      <td>1</td>\n",
       "    </tr>\n",
       "  </tbody>\n",
       "</table>\n",
       "</div>"
      ],
      "text/plain": [
       "  State Name county Name State Code  County Code        Date  AQI  Category  \\\n",
       "0    Alabama     Baldwin          1            3  2007-01-03   55  Moderate   \n",
       "1    Alabama     Baldwin          1            3  2007-01-06   23      Good   \n",
       "2    Alabama     Baldwin          1            3  2007-01-09   13      Good   \n",
       "3    Alabama     Baldwin          1            3  2007-01-12   25      Good   \n",
       "4    Alabama     Baldwin          1            3  2007-01-15   17      Good   \n",
       "\n",
       "  Defining Parameter Defining Site  Number of Sites Reporting  \n",
       "0              PM2.5   01-003-0010                          1  \n",
       "1              PM2.5   01-003-0010                          1  \n",
       "2              PM2.5   01-003-0010                          1  \n",
       "3              PM2.5   01-003-0010                          1  \n",
       "4              PM2.5   01-003-0010                          1  "
      ]
     },
     "execution_count": 133,
     "metadata": {},
     "output_type": "execute_result"
    }
   ],
   "source": [
    "dataframe.head()"
   ]
  },
  {
   "cell_type": "code",
   "execution_count": 142,
   "id": "c3ad76a8",
   "metadata": {},
   "outputs": [
    {
     "name": "stderr",
     "output_type": "stream",
     "text": [
      "/var/folders/4k/8phkr15d643gxspy_ftny_880000gn/T/ipykernel_2558/2279933555.py:3: DtypeWarning: Columns (3) have mixed types. Specify dtype option on import or set low_memory=False.\n",
      "  df = pd.read_csv('pollution.csv', header=0, index_col=0)\n"
     ]
    },
    {
     "name": "stdout",
     "output_type": "stream",
     "text": [
      "<class 'pandas.core.frame.DataFrame'>\n",
      "Int64Index: 319674 entries, 72999 to 10700869\n",
      "Data columns (total 4 columns):\n",
      " #   Column  Non-Null Count   Dtype \n",
      "---  ------  --------------   ----- \n",
      " 0   Date    319674 non-null  object\n",
      " 1   AQI     319674 non-null  int64 \n",
      " 2   month   319674 non-null  int64 \n",
      " 3   year    319674 non-null  int64 \n",
      "dtypes: int64(3), object(1)\n",
      "memory usage: 12.2+ MB\n"
     ]
    }
   ],
   "source": [
    "dataset = dataframe\n",
    "dataset.to_csv('pollution.csv')\n",
    "df = pd.read_csv('pollution.csv', header=0, index_col=0)\n",
    "dataset_columns = df.columns.tolist()\n",
    "df_state_aqi=df.drop(['county Name',\n",
    " 'State Code',\n",
    " 'County Code',\n",
    " 'Category',\n",
    " 'Defining Parameter',\n",
    " 'Defining Site',\n",
    " 'Number of Sites Reporting'], axis=1)\n",
    "aqi_avg= df_state_aqi.loc[df_state_aqi['State Name']=='Illinois'].drop(columns=['State Name'])\n",
    "aqi_avg['month'] = pd.to_datetime(df['Date']).dt.month\n",
    "aqi_avg['year'] = pd.to_datetime(df['Date']).dt.year\n",
    "avg_il=aqi_avg.groupby(['year','month'],as_index=False).mean()\n",
    "aqi_avg.info()\n"
   ]
  },
  {
   "cell_type": "code",
   "execution_count": null,
   "id": "467504f2",
   "metadata": {},
   "outputs": [],
   "source": [
    "aqi_avg.info()"
   ]
  },
  {
   "cell_type": "code",
   "execution_count": 141,
   "id": "df7a9981",
   "metadata": {},
   "outputs": [],
   "source": [
    "aqi_avg.to_csv('daily_aqi.csv')"
   ]
  }
 ],
 "metadata": {
  "kernelspec": {
   "display_name": "Python 3 (ipykernel)",
   "language": "python",
   "name": "python3"
  },
  "language_info": {
   "codemirror_mode": {
    "name": "ipython",
    "version": 3
   },
   "file_extension": ".py",
   "mimetype": "text/x-python",
   "name": "python",
   "nbconvert_exporter": "python",
   "pygments_lexer": "ipython3",
   "version": "3.9.13"
  }
 },
 "nbformat": 4,
 "nbformat_minor": 5
}
